{
  "nbformat": 4,
  "nbformat_minor": 0,
  "metadata": {
    "colab": {
      "name": "yolor_coco datset _series1.ipynb",
      "provenance": [],
      "authorship_tag": "ABX9TyPmxvjrNlwQdrHsLeDPHwt2",
      "include_colab_link": true
    },
    "kernelspec": {
      "name": "python3",
      "display_name": "Python 3"
    },
    "language_info": {
      "name": "python"
    },
    "accelerator": "GPU"
  },
  "cells": [
    {
      "cell_type": "markdown",
      "metadata": {
        "id": "view-in-github",
        "colab_type": "text"
      },
      "source": [
        "<a href=\"https://colab.research.google.com/github/animeesh/Image_processing/blob/main/yolor_coco_datset__series1.ipynb\" target=\"_parent\"><img src=\"https://colab.research.google.com/assets/colab-badge.svg\" alt=\"Open In Colab\"/></a>"
      ]
    },
    {
      "cell_type": "code",
      "metadata": {
        "id": "Ai4ZjSXgRxdS"
      },
      "source": [
        ""
      ],
      "execution_count": 22,
      "outputs": []
    },
    {
      "cell_type": "markdown",
      "metadata": {
        "id": "kxurmtpbSAkE"
      },
      "source": [
        "Setting dependency"
      ]
    },
    {
      "cell_type": "code",
      "metadata": {
        "id": "c9N7NbNLD9dF"
      },
      "source": [
        ""
      ],
      "execution_count": 22,
      "outputs": []
    },
    {
      "cell_type": "code",
      "metadata": {
        "colab": {
          "base_uri": "https://localhost:8080/"
        },
        "id": "1DI1caS1SLgJ",
        "outputId": "fc605362-dd75-429f-b695-76071b116d64"
      },
      "source": [
        "from google.colab import drive\n",
        "drive.mount('/content/drive')"
      ],
      "execution_count": 23,
      "outputs": [
        {
          "output_type": "stream",
          "name": "stdout",
          "text": [
            "Drive already mounted at /content/drive; to attempt to forcibly remount, call drive.mount(\"/content/drive\", force_remount=True).\n"
          ]
        }
      ]
    },
    {
      "cell_type": "code",
      "metadata": {
        "colab": {
          "base_uri": "https://localhost:8080/"
        },
        "id": "_kC8KzThSefK",
        "outputId": "ac36fd2d-6ff9-497b-cadf-914a3bb37153"
      },
      "source": [
        "!git clone https://github.com/WongKinYiu/yolor\n",
        "%cd yolor\n"
      ],
      "execution_count": 24,
      "outputs": [
        {
          "output_type": "stream",
          "name": "stdout",
          "text": [
            "Cloning into 'yolor'...\n",
            "remote: Enumerating objects: 442, done.\u001b[K\n",
            "remote: Counting objects: 100% (232/232), done.\u001b[K\n",
            "remote: Compressing objects: 100% (183/183), done.\u001b[K\n",
            "remote: Total 442 (delta 137), reused 51 (delta 46), pack-reused 210\u001b[K\n",
            "Receiving objects: 100% (442/442), 2.99 MiB | 15.06 MiB/s, done.\n",
            "Resolving deltas: 100% (198/198), done.\n",
            "/content/yolor/yolor\n"
          ]
        }
      ]
    },
    {
      "cell_type": "code",
      "metadata": {
        "id": "wwDDzTjFUDBA"
      },
      "source": [
        "# instaling packages\n",
        "!pip install -qr requirements.txt"
      ],
      "execution_count": 25,
      "outputs": []
    },
    {
      "cell_type": "code",
      "metadata": {
        "colab": {
          "base_uri": "https://localhost:8080/"
        },
        "id": "E9NUVsotUha5",
        "outputId": "bde49f14-57c3-4613-b471-5a1751fe7cea"
      },
      "source": [
        "# install mmish cuda\n",
        "!git clone https://github.com/JunnYu/mish-cuda\n",
        "%cd mish-cuda\n",
        "!python setup.py  build install\n"
      ],
      "execution_count": 26,
      "outputs": [
        {
          "output_type": "stream",
          "name": "stdout",
          "text": [
            "Cloning into 'mish-cuda'...\n",
            "remote: Enumerating objects: 195, done.\u001b[K\n",
            "remote: Counting objects:   1% (1/88)\u001b[K\rremote: Counting objects:   2% (2/88)\u001b[K\rremote: Counting objects:   3% (3/88)\u001b[K\rremote: Counting objects:   4% (4/88)\u001b[K\rremote: Counting objects:   5% (5/88)\u001b[K\rremote: Counting objects:   6% (6/88)\u001b[K\rremote: Counting objects:   7% (7/88)\u001b[K\rremote: Counting objects:   9% (8/88)\u001b[K\rremote: Counting objects:  10% (9/88)\u001b[K\rremote: Counting objects:  11% (10/88)\u001b[K\rremote: Counting objects:  12% (11/88)\u001b[K\rremote: Counting objects:  13% (12/88)\u001b[K\rremote: Counting objects:  14% (13/88)\u001b[K\rremote: Counting objects:  15% (14/88)\u001b[K\rremote: Counting objects:  17% (15/88)\u001b[K\rremote: Counting objects:  18% (16/88)\u001b[K\rremote: Counting objects:  19% (17/88)\u001b[K\rremote: Counting objects:  20% (18/88)\u001b[K\rremote: Counting objects:  21% (19/88)\u001b[K\rremote: Counting objects:  22% (20/88)\u001b[K\rremote: Counting objects:  23% (21/88)\u001b[K\rremote: Counting objects:  25% (22/88)\u001b[K\rremote: Counting objects:  26% (23/88)\u001b[K\rremote: Counting objects:  27% (24/88)\u001b[K\rremote: Counting objects:  28% (25/88)\u001b[K\rremote: Counting objects:  29% (26/88)\u001b[K\rremote: Counting objects:  30% (27/88)\u001b[K\rremote: Counting objects:  31% (28/88)\u001b[K\rremote: Counting objects:  32% (29/88)\u001b[K\rremote: Counting objects:  34% (30/88)\u001b[K\rremote: Counting objects:  35% (31/88)\u001b[K\rremote: Counting objects:  36% (32/88)\u001b[K\rremote: Counting objects:  37% (33/88)\u001b[K\rremote: Counting objects:  38% (34/88)\u001b[K\rremote: Counting objects:  39% (35/88)\u001b[K\rremote: Counting objects:  40% (36/88)\u001b[K\rremote: Counting objects:  42% (37/88)\u001b[K\rremote: Counting objects:  43% (38/88)\u001b[K\rremote: Counting objects:  44% (39/88)\u001b[K\rremote: Counting objects:  45% (40/88)\u001b[K\rremote: Counting objects:  46% (41/88)\u001b[K\rremote: Counting objects:  47% (42/88)\u001b[K\rremote: Counting objects:  48% (43/88)\u001b[K\rremote: Counting objects:  50% (44/88)\u001b[K\rremote: Counting objects:  51% (45/88)\u001b[K\rremote: Counting objects:  52% (46/88)\u001b[K\rremote: Counting objects:  53% (47/88)\u001b[K\rremote: Counting objects:  54% (48/88)\u001b[K\rremote: Counting objects:  55% (49/88)\u001b[K\rremote: Counting objects:  56% (50/88)\u001b[K\rremote: Counting objects:  57% (51/88)\u001b[K\rremote: Counting objects:  59% (52/88)\u001b[K\rremote: Counting objects:  60% (53/88)\u001b[K\rremote: Counting objects:  61% (54/88)\u001b[K\rremote: Counting objects:  62% (55/88)\u001b[K\rremote: Counting objects:  63% (56/88)\u001b[K\rremote: Counting objects:  64% (57/88)\u001b[K\rremote: Counting objects:  65% (58/88)\u001b[K\rremote: Counting objects:  67% (59/88)\u001b[K\rremote: Counting objects:  68% (60/88)\u001b[K\rremote: Counting objects:  69% (61/88)\u001b[K\rremote: Counting objects:  70% (62/88)\u001b[K\rremote: Counting objects:  71% (63/88)\u001b[K\rremote: Counting objects:  72% (64/88)\u001b[K\rremote: Counting objects:  73% (65/88)\u001b[K\rremote: Counting objects:  75% (66/88)\u001b[K\rremote: Counting objects:  76% (67/88)\u001b[K\rremote: Counting objects:  77% (68/88)\u001b[K\rremote: Counting objects:  78% (69/88)\u001b[K\rremote: Counting objects:  79% (70/88)\u001b[K\rremote: Counting objects:  80% (71/88)\u001b[K\rremote: Counting objects:  81% (72/88)\u001b[K\rremote: Counting objects:  82% (73/88)\u001b[K\rremote: Counting objects:  84% (74/88)\u001b[K\rremote: Counting objects:  85% (75/88)\u001b[K\rremote: Counting objects:  86% (76/88)\u001b[K\rremote: Counting objects:  87% (77/88)\u001b[K\rremote: Counting objects:  88% (78/88)\u001b[K\rremote: Counting objects:  89% (79/88)\u001b[K\rremote: Counting objects:  90% (80/88)\u001b[K\rremote: Counting objects:  92% (81/88)\u001b[K\rremote: Counting objects:  93% (82/88)\u001b[K\rremote: Counting objects:  94% (83/88)\u001b[K\rremote: Counting objects:  95% (84/88)\u001b[K\rremote: Counting objects:  96% (85/88)\u001b[K\rremote: Counting objects:  97% (86/88)\u001b[K\rremote: Counting objects:  98% (87/88)\u001b[K\rremote: Counting objects: 100% (88/88)\u001b[K\rremote: Counting objects: 100% (88/88), done.\u001b[K\n",
            "remote: Compressing objects: 100% (75/75), done.\u001b[K\n",
            "remote: Total 195 (delta 7), reused 79 (delta 3), pack-reused 107\u001b[K\n",
            "Receiving objects: 100% (195/195), 208.77 KiB | 3.07 MiB/s, done.\n",
            "Resolving deltas: 100% (56/56), done.\n",
            "/content/yolor/yolor/mish-cuda\n",
            "/usr/lib/python3.7/distutils/extension.py:131: UserWarning: Unknown Extension options: 'headers'\n",
            "  warnings.warn(msg)\n",
            "running build\n",
            "running build_py\n",
            "creating build\n",
            "creating build/lib.linux-x86_64-3.7\n",
            "creating build/lib.linux-x86_64-3.7/mish_cuda\n",
            "copying src/mish_cuda/__init__.py -> build/lib.linux-x86_64-3.7/mish_cuda\n",
            "running egg_info\n",
            "creating src/mish_cuda.egg-info\n",
            "writing src/mish_cuda.egg-info/PKG-INFO\n",
            "writing dependency_links to src/mish_cuda.egg-info/dependency_links.txt\n",
            "writing requirements to src/mish_cuda.egg-info/requires.txt\n",
            "writing top-level names to src/mish_cuda.egg-info/top_level.txt\n",
            "writing manifest file 'src/mish_cuda.egg-info/SOURCES.txt'\n",
            "/usr/local/lib/python3.7/dist-packages/torch/utils/cpp_extension.py:339: UserWarning: Attempted to use ninja as the BuildExtension backend but we could not find ninja.. Falling back to using the slow distutils backend.\n",
            "  warnings.warn(msg.format('we could not find ninja.'))\n",
            "adding license file 'LICENSE'\n",
            "writing manifest file 'src/mish_cuda.egg-info/SOURCES.txt'\n",
            "running build_ext\n",
            "building 'mish_cuda._C' extension\n",
            "creating build/temp.linux-x86_64-3.7\n",
            "creating build/temp.linux-x86_64-3.7/csrc\n",
            "creating build/temp.linux-x86_64-3.7/csrc/cpu\n",
            "creating build/temp.linux-x86_64-3.7/csrc/cuda\n",
            "x86_64-linux-gnu-gcc -pthread -Wno-unused-result -Wsign-compare -DNDEBUG -g -fwrapv -O2 -Wall -g -fdebug-prefix-map=/build/python3.7-Y7dWVB/python3.7-3.7.12=. -fstack-protector-strong -Wformat -Werror=format-security -g -fdebug-prefix-map=/build/python3.7-Y7dWVB/python3.7-3.7.12=. -fstack-protector-strong -Wformat -Werror=format-security -Wdate-time -D_FORTIFY_SOURCE=2 -fPIC -I/usr/local/lib/python3.7/dist-packages/torch/include -I/usr/local/lib/python3.7/dist-packages/torch/include/torch/csrc/api/include -I/usr/local/lib/python3.7/dist-packages/torch/include/TH -I/usr/local/lib/python3.7/dist-packages/torch/include/THC -I/usr/local/cuda/include -I/usr/include/python3.7m -c csrc/cpu/mish_cpu.cpp -o build/temp.linux-x86_64-3.7/csrc/cpu/mish_cpu.o -DTORCH_API_INCLUDE_EXTENSION_H -DTORCH_EXTENSION_NAME=_C -D_GLIBCXX_USE_CXX11_ABI=0 -std=c++14\n",
            "In file included from \u001b[01m\u001b[K/usr/local/lib/python3.7/dist-packages/torch/include/ATen/Parallel.h:149:0\u001b[m\u001b[K,\n",
            "                 from \u001b[01m\u001b[K/usr/local/lib/python3.7/dist-packages/torch/include/ATen/CPUApplyUtils.h:3\u001b[m\u001b[K,\n",
            "                 from \u001b[01m\u001b[Kcsrc/cpu/mish_cpu.cpp:3\u001b[m\u001b[K:\n",
            "\u001b[01m\u001b[K/usr/local/lib/python3.7/dist-packages/torch/include/ATen/ParallelOpenMP.h:84:0:\u001b[m\u001b[K \u001b[01;35m\u001b[Kwarning: \u001b[m\u001b[Kignoring #pragma omp parallel [\u001b[01;35m\u001b[K-Wunknown-pragmas\u001b[m\u001b[K]\n",
            " #pragma omp parallel for if ((end - begin) >= grain_size)\n",
            " \n",
            "x86_64-linux-gnu-gcc -pthread -Wno-unused-result -Wsign-compare -DNDEBUG -g -fwrapv -O2 -Wall -g -fdebug-prefix-map=/build/python3.7-Y7dWVB/python3.7-3.7.12=. -fstack-protector-strong -Wformat -Werror=format-security -g -fdebug-prefix-map=/build/python3.7-Y7dWVB/python3.7-3.7.12=. -fstack-protector-strong -Wformat -Werror=format-security -Wdate-time -D_FORTIFY_SOURCE=2 -fPIC -I/usr/local/lib/python3.7/dist-packages/torch/include -I/usr/local/lib/python3.7/dist-packages/torch/include/torch/csrc/api/include -I/usr/local/lib/python3.7/dist-packages/torch/include/TH -I/usr/local/lib/python3.7/dist-packages/torch/include/THC -I/usr/local/cuda/include -I/usr/include/python3.7m -c csrc/cuda/mish_cuda.cpp -o build/temp.linux-x86_64-3.7/csrc/cuda/mish_cuda.o -DTORCH_API_INCLUDE_EXTENSION_H -DTORCH_EXTENSION_NAME=_C -D_GLIBCXX_USE_CXX11_ABI=0 -std=c++14\n",
            "In file included from \u001b[01m\u001b[K/usr/local/lib/python3.7/dist-packages/torch/include/ATen/Parallel.h:149:0\u001b[m\u001b[K,\n",
            "                 from \u001b[01m\u001b[K/usr/local/lib/python3.7/dist-packages/torch/include/torch/csrc/api/include/torch/utils.h:3\u001b[m\u001b[K,\n",
            "                 from \u001b[01m\u001b[K/usr/local/lib/python3.7/dist-packages/torch/include/torch/csrc/api/include/torch/nn/cloneable.h:5\u001b[m\u001b[K,\n",
            "                 from \u001b[01m\u001b[K/usr/local/lib/python3.7/dist-packages/torch/include/torch/csrc/api/include/torch/nn.h:3\u001b[m\u001b[K,\n",
            "                 from \u001b[01m\u001b[K/usr/local/lib/python3.7/dist-packages/torch/include/torch/csrc/api/include/torch/all.h:12\u001b[m\u001b[K,\n",
            "                 from \u001b[01m\u001b[K/usr/local/lib/python3.7/dist-packages/torch/include/torch/extension.h:4\u001b[m\u001b[K,\n",
            "                 from \u001b[01m\u001b[Kcsrc/cuda/mish_cuda.cpp:2\u001b[m\u001b[K:\n",
            "\u001b[01m\u001b[K/usr/local/lib/python3.7/dist-packages/torch/include/ATen/ParallelOpenMP.h:84:0:\u001b[m\u001b[K \u001b[01;35m\u001b[Kwarning: \u001b[m\u001b[Kignoring #pragma omp parallel [\u001b[01;35m\u001b[K-Wunknown-pragmas\u001b[m\u001b[K]\n",
            " #pragma omp parallel for if ((end - begin) >= grain_size)\n",
            " \n",
            "/usr/local/cuda/bin/nvcc -I/usr/local/lib/python3.7/dist-packages/torch/include -I/usr/local/lib/python3.7/dist-packages/torch/include/torch/csrc/api/include -I/usr/local/lib/python3.7/dist-packages/torch/include/TH -I/usr/local/lib/python3.7/dist-packages/torch/include/THC -I/usr/local/cuda/include -I/usr/include/python3.7m -c csrc/cuda/mish_kernel.cu -o build/temp.linux-x86_64-3.7/csrc/cuda/mish_kernel.o -D__CUDA_NO_HALF_OPERATORS__ -D__CUDA_NO_HALF_CONVERSIONS__ -D__CUDA_NO_HALF2_OPERATORS__ --expt-relaxed-constexpr --compiler-options '-fPIC' --expt-extended-lambda -DTORCH_API_INCLUDE_EXTENSION_H -DTORCH_EXTENSION_NAME=_C -D_GLIBCXX_USE_CXX11_ABI=0 -gencode=arch=compute_37,code=sm_37 -std=c++14\n",
            "nvcc warning : The 'compute_35', 'compute_37', 'compute_50', 'sm_35', 'sm_37' and 'sm_50' architectures are deprecated, and may be removed in a future release (Use -Wno-deprecated-gpu-targets to suppress warning).\n",
            "/usr/local/lib/python3.7/dist-packages/torch/include/ATen/core/boxing/impl/boxing.h(100): warning: integer conversion resulted in a change of sign\n",
            "\n",
            "/usr/local/lib/python3.7/dist-packages/torch/include/ATen/core/op_registration/op_whitelist.h(39): warning: integer conversion resulted in a change of sign\n",
            "\n",
            "/usr/local/lib/python3.7/dist-packages/torch/include/ATen/core/boxing/impl/boxing.h(100): warning: integer conversion resulted in a change of sign\n",
            "\n",
            "/usr/local/lib/python3.7/dist-packages/torch/include/ATen/core/op_registration/op_whitelist.h(39): warning: integer conversion resulted in a change of sign\n",
            "\n",
            "x86_64-linux-gnu-g++ -pthread -shared -Wl,-O1 -Wl,-Bsymbolic-functions -Wl,-Bsymbolic-functions -Wl,-z,relro -Wl,-Bsymbolic-functions -Wl,-z,relro -g -fdebug-prefix-map=/build/python3.7-Y7dWVB/python3.7-3.7.12=. -fstack-protector-strong -Wformat -Werror=format-security -Wdate-time -D_FORTIFY_SOURCE=2 build/temp.linux-x86_64-3.7/csrc/cpu/mish_cpu.o build/temp.linux-x86_64-3.7/csrc/cuda/mish_cuda.o build/temp.linux-x86_64-3.7/csrc/cuda/mish_kernel.o -L/usr/local/lib/python3.7/dist-packages/torch/lib -L/usr/local/cuda/lib64 -lc10 -ltorch -ltorch_cpu -ltorch_python -lcudart -lc10_cuda -ltorch_cuda -o build/lib.linux-x86_64-3.7/mish_cuda/_C.cpython-37m-x86_64-linux-gnu.so\n",
            "running install\n",
            "running bdist_egg\n",
            "installing library code to build/bdist.linux-x86_64/egg\n",
            "running install_lib\n",
            "creating build/bdist.linux-x86_64\n",
            "creating build/bdist.linux-x86_64/egg\n",
            "creating build/bdist.linux-x86_64/egg/mish_cuda\n",
            "copying build/lib.linux-x86_64-3.7/mish_cuda/_C.cpython-37m-x86_64-linux-gnu.so -> build/bdist.linux-x86_64/egg/mish_cuda\n",
            "copying build/lib.linux-x86_64-3.7/mish_cuda/__init__.py -> build/bdist.linux-x86_64/egg/mish_cuda\n",
            "byte-compiling build/bdist.linux-x86_64/egg/mish_cuda/__init__.py to __init__.cpython-37.pyc\n",
            "creating stub loader for mish_cuda/_C.cpython-37m-x86_64-linux-gnu.so\n",
            "byte-compiling build/bdist.linux-x86_64/egg/mish_cuda/_C.py to _C.cpython-37.pyc\n",
            "creating build/bdist.linux-x86_64/egg/EGG-INFO\n",
            "copying src/mish_cuda.egg-info/PKG-INFO -> build/bdist.linux-x86_64/egg/EGG-INFO\n",
            "copying src/mish_cuda.egg-info/SOURCES.txt -> build/bdist.linux-x86_64/egg/EGG-INFO\n",
            "copying src/mish_cuda.egg-info/dependency_links.txt -> build/bdist.linux-x86_64/egg/EGG-INFO\n",
            "copying src/mish_cuda.egg-info/not-zip-safe -> build/bdist.linux-x86_64/egg/EGG-INFO\n",
            "copying src/mish_cuda.egg-info/requires.txt -> build/bdist.linux-x86_64/egg/EGG-INFO\n",
            "copying src/mish_cuda.egg-info/top_level.txt -> build/bdist.linux-x86_64/egg/EGG-INFO\n",
            "writing build/bdist.linux-x86_64/egg/EGG-INFO/native_libs.txt\n",
            "creating dist\n",
            "creating 'dist/mish_cuda-0.0.3-py3.7-linux-x86_64.egg' and adding 'build/bdist.linux-x86_64/egg' to it\n",
            "removing 'build/bdist.linux-x86_64/egg' (and everything under it)\n",
            "Processing mish_cuda-0.0.3-py3.7-linux-x86_64.egg\n",
            "removing '/usr/local/lib/python3.7/dist-packages/mish_cuda-0.0.3-py3.7-linux-x86_64.egg' (and everything under it)\n",
            "creating /usr/local/lib/python3.7/dist-packages/mish_cuda-0.0.3-py3.7-linux-x86_64.egg\n",
            "Extracting mish_cuda-0.0.3-py3.7-linux-x86_64.egg to /usr/local/lib/python3.7/dist-packages\n",
            "mish-cuda 0.0.3 is already the active version in easy-install.pth\n",
            "\n",
            "Installed /usr/local/lib/python3.7/dist-packages/mish_cuda-0.0.3-py3.7-linux-x86_64.egg\n",
            "Processing dependencies for mish-cuda==0.0.3\n",
            "Searching for torch==1.7.0\n",
            "Best match: torch 1.7.0\n",
            "Adding torch 1.7.0 to easy-install.pth file\n",
            "Installing convert-caffe2-to-onnx script to /usr/local/bin\n",
            "Installing convert-onnx-to-caffe2 script to /usr/local/bin\n",
            "\n",
            "Using /usr/local/lib/python3.7/dist-packages\n",
            "Searching for numpy==1.19.5\n",
            "Best match: numpy 1.19.5\n",
            "Adding numpy 1.19.5 to easy-install.pth file\n",
            "Installing f2py script to /usr/local/bin\n",
            "Installing f2py3 script to /usr/local/bin\n",
            "Installing f2py3.7 script to /usr/local/bin\n",
            "\n",
            "Using /usr/local/lib/python3.7/dist-packages\n",
            "Searching for dataclasses==0.6\n",
            "Best match: dataclasses 0.6\n",
            "Adding dataclasses 0.6 to easy-install.pth file\n",
            "\n",
            "Using /usr/local/lib/python3.7/dist-packages\n",
            "Searching for future==0.16.0\n",
            "Best match: future 0.16.0\n",
            "Adding future 0.16.0 to easy-install.pth file\n",
            "Installing futurize script to /usr/local/bin\n",
            "Installing pasteurize script to /usr/local/bin\n",
            "\n",
            "Using /usr/local/lib/python3.7/dist-packages\n",
            "Searching for typing-extensions==3.7.4.3\n",
            "Best match: typing-extensions 3.7.4.3\n",
            "Adding typing-extensions 3.7.4.3 to easy-install.pth file\n",
            "\n",
            "Using /usr/local/lib/python3.7/dist-packages\n",
            "Finished processing dependencies for mish-cuda==0.0.3\n"
          ]
        }
      ]
    },
    {
      "cell_type": "code",
      "metadata": {
        "colab": {
          "base_uri": "https://localhost:8080/"
        },
        "id": "T2IhSodmV63Z",
        "outputId": "fc9eeb94-f536-47df-b9f2-176c5d355c53"
      },
      "source": [
        "%cd ..\n",
        "!pwd"
      ],
      "execution_count": 27,
      "outputs": [
        {
          "output_type": "stream",
          "name": "stdout",
          "text": [
            "/content/yolor/yolor\n",
            "/content/yolor/yolor\n"
          ]
        }
      ]
    },
    {
      "cell_type": "code",
      "metadata": {
        "colab": {
          "base_uri": "https://localhost:8080/"
        },
        "id": "eY3E_Tf-Z3GJ",
        "outputId": "5dc885e2-b5e5-44c8-8011-b01a29426d14"
      },
      "source": [
        "#instaLL PYTHON WAVELETS \n",
        "!git clone https://github.com/fbcotter/pytorch_wavelets\n"
      ],
      "execution_count": 28,
      "outputs": [
        {
          "output_type": "stream",
          "name": "stdout",
          "text": [
            "Cloning into 'pytorch_wavelets'...\n",
            "remote: Enumerating objects: 972, done.\u001b[K\n",
            "remote: Counting objects: 100% (136/136), done.\u001b[K\n",
            "remote: Compressing objects: 100% (91/91), done.\u001b[K\n",
            "remote: Total 972 (delta 75), reused 89 (delta 45), pack-reused 836\u001b[K\n",
            "Receiving objects: 100% (972/972), 6.80 MiB | 21.29 MiB/s, done.\n",
            "Resolving deltas: 100% (659/659), done.\n"
          ]
        }
      ]
    },
    {
      "cell_type": "code",
      "metadata": {
        "colab": {
          "base_uri": "https://localhost:8080/"
        },
        "id": "h8S28KTkasVC",
        "outputId": "292706cc-ca7a-40d2-c942-1c54bd6c1686"
      },
      "source": [
        "%cd pytorch_wavelets\n",
        "!pip install ."
      ],
      "execution_count": 29,
      "outputs": [
        {
          "output_type": "stream",
          "name": "stdout",
          "text": [
            "/content/yolor/yolor/pytorch_wavelets\n",
            "Processing /content/yolor/yolor/pytorch_wavelets\n",
            "\u001b[33m  DEPRECATION: A future pip version will change local packages to be built in-place without first copying to a temporary directory. We recommend you use --use-feature=in-tree-build to test your packages with this new behavior before it becomes the default.\n",
            "   pip 21.3 will remove support for this functionality. You can find discussion regarding this at https://github.com/pypa/pip/issues/7555.\u001b[0m\n",
            "Requirement already satisfied: numpy in /usr/local/lib/python3.7/dist-packages (from pytorch-wavelets==1.3.0) (1.19.5)\n",
            "Requirement already satisfied: six in /usr/local/lib/python3.7/dist-packages (from pytorch-wavelets==1.3.0) (1.15.0)\n",
            "Requirement already satisfied: torch in /usr/local/lib/python3.7/dist-packages (from pytorch-wavelets==1.3.0) (1.7.0)\n",
            "Requirement already satisfied: dataclasses in /usr/local/lib/python3.7/dist-packages (from torch->pytorch-wavelets==1.3.0) (0.6)\n",
            "Requirement already satisfied: typing-extensions in /usr/local/lib/python3.7/dist-packages (from torch->pytorch-wavelets==1.3.0) (3.7.4.3)\n",
            "Requirement already satisfied: future in /usr/local/lib/python3.7/dist-packages (from torch->pytorch-wavelets==1.3.0) (0.16.0)\n",
            "Building wheels for collected packages: pytorch-wavelets\n",
            "  Building wheel for pytorch-wavelets (setup.py) ... \u001b[?25l\u001b[?25hdone\n",
            "  Created wheel for pytorch-wavelets: filename=pytorch_wavelets-1.3.0-py3-none-any.whl size=54869 sha256=03f412b82339ed28d54048fbb7ca0a9a9a99bac6c3f3aaaae93175ace8033c5e\n",
            "  Stored in directory: /tmp/pip-ephem-wheel-cache-7lh8h6qm/wheels/dd/ad/1d/ca3e00f186ada43f332b15665bd8c8953c4070953359885564\n",
            "Successfully built pytorch-wavelets\n",
            "Installing collected packages: pytorch-wavelets\n",
            "  Attempting uninstall: pytorch-wavelets\n",
            "    Found existing installation: pytorch-wavelets 1.3.0\n",
            "    Uninstalling pytorch-wavelets-1.3.0:\n",
            "      Successfully uninstalled pytorch-wavelets-1.3.0\n",
            "Successfully installed pytorch-wavelets-1.3.0\n"
          ]
        }
      ]
    },
    {
      "cell_type": "code",
      "metadata": {
        "colab": {
          "base_uri": "https://localhost:8080/"
        },
        "id": "vw4moNDga0_L",
        "outputId": "7820acfb-a5ec-4199-f90f-4af2cd149d15"
      },
      "source": [
        "%cd ..\n"
      ],
      "execution_count": 30,
      "outputs": [
        {
          "output_type": "stream",
          "name": "stdout",
          "text": [
            "/content/yolor/yolor\n"
          ]
        }
      ]
    },
    {
      "cell_type": "code",
      "metadata": {
        "colab": {
          "base_uri": "https://localhost:8080/"
        },
        "id": "SQJ7UKHva5mE",
        "outputId": "343f7980-7208-4701-aebc-9571e7faf86b"
      },
      "source": [
        "!bash /content/yolor/scripts/get_pretrain.sh"
      ],
      "execution_count": 31,
      "outputs": [
        {
          "output_type": "stream",
          "name": "stdout",
          "text": [
            "  % Total    % Received % Xferd  Average Speed   Time    Time     Time  Current\n",
            "                                 Dload  Upload   Total   Spent    Left  Speed\n",
            "100   408    0   408    0     0   2503      0 --:--:-- --:--:-- --:--:--  2503\n",
            "  0     0    0     0    0     0      0      0 --:--:-- --:--:-- --:--:--     0\n",
            "  0     0    0     0    0     0      0      0 --:--:-- --:--:-- --:--:--     0\n",
            "100  142M    0  142M    0     0   116M      0 --:--:--  0:00:01 --:--:--  179M\n",
            "  % Total    % Received % Xferd  Average Speed   Time    Time     Time  Current\n",
            "                                 Dload  Upload   Total   Spent    Left  Speed\n",
            "100   408    0   408    0     0   3090      0 --:--:-- --:--:-- --:--:--  3090\n",
            "  0     0    0     0    0     0      0      0 --:--:-- --:--:-- --:--:--     0\n",
            "  0     0    0     0    0     0      0      0 --:--:-- --:--:-- --:--:--     0\n",
            "100  305M    0  305M    0     0   139M      0 --:--:--  0:00:02 --:--:--  179M\n"
          ]
        }
      ]
    },
    {
      "cell_type": "markdown",
      "metadata": {
        "id": "j05Brdvabcux"
      },
      "source": [
        "to confirm check yolor folder 2 new folders will be added as \n",
        "**yolor_p6.pt   **    \n",
        "**yolor_w6.pt**\n"
      ]
    },
    {
      "cell_type": "code",
      "metadata": {
        "colab": {
          "base_uri": "https://localhost:8080/"
        },
        "id": "RTjZvMxNbS3j",
        "outputId": "904ad18f-a731-4914-f10d-50eb184f73ed"
      },
      "source": [
        "!python detect.py --source inference/images/book1.jpg --cfg cfg/yolor_p6.cfg --weights yolor_p6.pt --conf 0.25 --img-size 1280 --device 0 --output /content/drive/MyDrive/output_of_yolor\n"
      ],
      "execution_count": 32,
      "outputs": [
        {
          "output_type": "stream",
          "name": "stdout",
          "text": [
            "Namespace(agnostic_nms=False, augment=False, cfg='cfg/yolor_p6.cfg', classes=None, conf_thres=0.25, device='0', img_size=1280, iou_thres=0.5, names='data/coco.names', output='/content/drive/MyDrive/output_of_yolor', save_txt=False, source='inference/images/book1.jpg', update=False, view_img=False, weights=['yolor_p6.pt'])\n",
            "Traceback (most recent call last):\n",
            "  File \"detect.py\", line 186, in <module>\n",
            "    detect()\n",
            "  File \"detect.py\", line 66, in detect\n",
            "    dataset = LoadImages(source, img_size=imgsz, auto_size=64)\n",
            "  File \"/content/yolor/yolor/utils/datasets.py\", line 157, in __init__\n",
            "    raise Exception('ERROR: %s does not exist' % p)\n",
            "Exception: ERROR: /content/yolor/yolor/inference/images/book1.jpg does not exist\n"
          ]
        }
      ]
    },
    {
      "cell_type": "code",
      "metadata": {
        "id": "dOf9Qf2fefR-"
      },
      "source": [
        "import glob\n",
        "from IPython.display import Image,display\n",
        "\n",
        "for imageName in glob.glob(\"/content/drive/MyDrive/output_of_yolor/*.jpg\"):\n",
        "  display(Image(filename=imageName))\n",
        "  print(\"\\n\")"
      ],
      "execution_count": 33,
      "outputs": []
    },
    {
      "cell_type": "code",
      "metadata": {
        "colab": {
          "base_uri": "https://localhost:8080/"
        },
        "id": "fcS6FdcjfOhw",
        "outputId": "79db2fe5-0793-4a7c-c4be-b30977724481"
      },
      "source": [
        "!python detect.py --source /content/drive/MyDrive/yolor_input_video/video.mp4 --cfg cfg/yolor_p6.cfg --weights yolor_p6.pt --conf 0.25 --img-size 1280 --device 0 --output /content/drive/MyDrive/output_of_yolor\n"
      ],
      "execution_count": 34,
      "outputs": [
        {
          "output_type": "stream",
          "name": "stdout",
          "text": [
            "Namespace(agnostic_nms=False, augment=False, cfg='cfg/yolor_p6.cfg', classes=None, conf_thres=0.25, device='0', img_size=1280, iou_thres=0.5, names='data/coco.names', output='/content/drive/MyDrive/output_of_yolor', save_txt=False, source='/content/drive/MyDrive/yolor_input_video/video.mp4', update=False, view_img=False, weights=['yolor_p6.pt'])\n",
            "video 1/1 (1/470) /content/drive/MyDrive/yolor_input_video/video.mp4: 768x1280 4 persons, 1 bottles, 9 cups, 1 knifes, 1 spoons, 2 chairs, 1 dining tables, 1 books, Done. (0.221s)\n",
            "video 1/1 (2/470) /content/drive/MyDrive/yolor_input_video/video.mp4: 768x1280 4 persons, 1 bottles, 9 cups, 1 knifes, 1 spoons, 2 chairs, 1 dining tables, 1 books, Done. (0.195s)\n",
            "video 1/1 (3/470) /content/drive/MyDrive/yolor_input_video/video.mp4: 768x1280 4 persons, 1 bottles, 9 cups, 1 knifes, 1 spoons, 1 chairs, 1 dining tables, 1 books, Done. (0.185s)\n",
            "video 1/1 (4/470) /content/drive/MyDrive/yolor_input_video/video.mp4: 768x1280 4 persons, 1 bottles, 9 cups, 1 knifes, 1 spoons, 1 dining tables, 1 books, Done. (0.185s)\n",
            "video 1/1 (5/470) /content/drive/MyDrive/yolor_input_video/video.mp4: 768x1280 4 persons, 1 bottles, 9 cups, 1 knifes, 2 spoons, 1 dining tables, 1 books, Done. (0.178s)\n",
            "video 1/1 (6/470) /content/drive/MyDrive/yolor_input_video/video.mp4: 768x1280 4 persons, 1 bottles, 10 cups, 1 knifes, 2 spoons, 1 dining tables, 1 books, Done. (0.178s)\n",
            "video 1/1 (7/470) /content/drive/MyDrive/yolor_input_video/video.mp4: 768x1280 4 persons, 1 bottles, 10 cups, 1 knifes, 1 spoons, 1 dining tables, 1 books, Done. (0.180s)\n",
            "video 1/1 (8/470) /content/drive/MyDrive/yolor_input_video/video.mp4: 768x1280 4 persons, 1 bottles, 10 cups, 1 knifes, 1 spoons, 1 dining tables, 1 books, Done. (0.178s)\n",
            "video 1/1 (9/470) /content/drive/MyDrive/yolor_input_video/video.mp4: 768x1280 4 persons, 1 bottles, 10 cups, 1 knifes, 3 spoons, 1 dining tables, 1 books, Done. (0.180s)\n",
            "video 1/1 (10/470) /content/drive/MyDrive/yolor_input_video/video.mp4: 768x1280 4 persons, 1 bottles, 9 cups, 1 knifes, 2 spoons, 1 dining tables, 1 books, Done. (0.179s)\n",
            "video 1/1 (11/470) /content/drive/MyDrive/yolor_input_video/video.mp4: 768x1280 4 persons, 1 bottles, 9 cups, 1 knifes, 3 spoons, 1 chairs, 1 dining tables, 1 books, Done. (0.180s)\n",
            "video 1/1 (12/470) /content/drive/MyDrive/yolor_input_video/video.mp4: 768x1280 4 persons, 1 bottles, 9 cups, 1 knifes, 4 spoons, 2 chairs, 1 dining tables, 1 books, Done. (0.179s)\n",
            "video 1/1 (13/470) /content/drive/MyDrive/yolor_input_video/video.mp4: 768x1280 4 persons, 1 bottles, 10 cups, 1 knifes, 3 spoons, 1 chairs, 1 dining tables, 1 books, Done. (0.179s)\n",
            "video 1/1 (14/470) /content/drive/MyDrive/yolor_input_video/video.mp4: 768x1280 4 persons, 1 bottles, 10 cups, 1 knifes, 3 spoons, 1 chairs, 1 dining tables, 1 books, Done. (0.179s)\n",
            "video 1/1 (15/470) /content/drive/MyDrive/yolor_input_video/video.mp4: 768x1280 4 persons, 1 bottles, 10 cups, 1 knifes, 3 spoons, 1 chairs, 1 dining tables, 1 books, Done. (0.178s)\n",
            "video 1/1 (16/470) /content/drive/MyDrive/yolor_input_video/video.mp4: 768x1280 4 persons, 1 bottles, 10 cups, 2 knifes, 4 spoons, 1 chairs, 1 dining tables, 1 books, Done. (0.179s)\n",
            "video 1/1 (17/470) /content/drive/MyDrive/yolor_input_video/video.mp4: 768x1280 4 persons, 1 bottles, 11 cups, 2 knifes, 4 spoons, 1 chairs, 1 dining tables, 1 books, Done. (0.178s)\n",
            "video 1/1 (18/470) /content/drive/MyDrive/yolor_input_video/video.mp4: 768x1280 4 persons, 1 bottles, 11 cups, 1 knifes, 4 spoons, 1 chairs, 1 dining tables, 1 books, Done. (0.177s)\n",
            "video 1/1 (19/470) /content/drive/MyDrive/yolor_input_video/video.mp4: 768x1280 4 persons, 1 bottles, 10 cups, 1 knifes, 4 spoons, 1 chairs, 1 dining tables, Done. (0.179s)\n",
            "video 1/1 (20/470) /content/drive/MyDrive/yolor_input_video/video.mp4: 768x1280 4 persons, 1 bottles, 11 cups, 1 forks, 1 knifes, 4 spoons, 1 dining tables, 1 books, Done. (0.179s)\n",
            "video 1/1 (21/470) /content/drive/MyDrive/yolor_input_video/video.mp4: 768x1280 4 persons, 1 bottles, 11 cups, 1 forks, 1 knifes, 4 spoons, 1 chairs, 1 dining tables, 1 books, Done. (0.178s)\n",
            "video 1/1 (22/470) /content/drive/MyDrive/yolor_input_video/video.mp4: 768x1280 4 persons, 1 bottles, 10 cups, 1 forks, 1 knifes, 4 spoons, 1 chairs, 1 dining tables, 1 books, Done. (0.179s)\n",
            "video 1/1 (23/470) /content/drive/MyDrive/yolor_input_video/video.mp4: 768x1280 4 persons, 1 bottles, 9 cups, 1 forks, 1 knifes, 4 spoons, 1 chairs, 1 dining tables, 1 books, Done. (0.179s)\n",
            "video 1/1 (24/470) /content/drive/MyDrive/yolor_input_video/video.mp4: 768x1280 4 persons, 1 bottles, 9 cups, 1 forks, 1 knifes, 4 spoons, 1 chairs, 1 dining tables, 1 books, Done. (0.178s)\n",
            "video 1/1 (25/470) /content/drive/MyDrive/yolor_input_video/video.mp4: 768x1280 4 persons, 1 bottles, 8 cups, 1 forks, 1 knifes, 3 spoons, 1 chairs, 1 dining tables, 1 books, Done. (0.178s)\n",
            "video 1/1 (26/470) /content/drive/MyDrive/yolor_input_video/video.mp4: 768x1280 4 persons, 1 bottles, 8 cups, 1 forks, 1 knifes, 3 spoons, 1 chairs, 1 dining tables, 1 books, Done. (0.178s)\n",
            "video 1/1 (27/470) /content/drive/MyDrive/yolor_input_video/video.mp4: 768x1280 4 persons, 1 bottles, 8 cups, 1 forks, 1 knifes, 3 spoons, 1 chairs, 1 dining tables, 1 books, Done. (0.178s)\n",
            "video 1/1 (28/470) /content/drive/MyDrive/yolor_input_video/video.mp4: 768x1280 4 persons, 1 bottles, 8 cups, 1 forks, 1 knifes, 3 spoons, 1 chairs, 1 dining tables, 1 books, Done. (0.178s)\n",
            "video 1/1 (29/470) /content/drive/MyDrive/yolor_input_video/video.mp4: 768x1280 4 persons, 1 bottles, 8 cups, 1 forks, 1 knifes, 3 spoons, 1 chairs, 1 dining tables, 1 books, Done. (0.179s)\n",
            "video 1/1 (30/470) /content/drive/MyDrive/yolor_input_video/video.mp4: 768x1280 4 persons, 2 bottles, 9 cups, 1 forks, 1 knifes, 3 spoons, 2 chairs, 1 dining tables, 1 books, Done. (0.178s)\n",
            "video 1/1 (31/470) /content/drive/MyDrive/yolor_input_video/video.mp4: 768x1280 4 persons, 2 bottles, 8 cups, 1 forks, 1 knifes, 3 spoons, 2 chairs, 1 dining tables, 1 books, Done. (0.179s)\n",
            "video 1/1 (32/470) /content/drive/MyDrive/yolor_input_video/video.mp4: 768x1280 5 persons, 2 bottles, 9 cups, 1 knifes, 2 spoons, 2 chairs, 1 dining tables, 1 books, Done. (0.180s)\n",
            "video 1/1 (33/470) /content/drive/MyDrive/yolor_input_video/video.mp4: 768x1280 5 persons, 2 bottles, 9 cups, 1 forks, 1 knifes, 2 spoons, 2 chairs, 1 dining tables, 1 books, Done. (0.178s)\n",
            "video 1/1 (34/470) /content/drive/MyDrive/yolor_input_video/video.mp4: 768x1280 5 persons, 2 bottles, 8 cups, 1 forks, 2 knifes, 2 spoons, 2 chairs, 1 dining tables, 1 books, Done. (0.179s)\n",
            "video 1/1 (35/470) /content/drive/MyDrive/yolor_input_video/video.mp4: 768x1280 5 persons, 2 bottles, 9 cups, 1 forks, 2 knifes, 2 spoons, 1 chairs, 1 dining tables, 2 books, Done. (0.178s)\n",
            "video 1/1 (36/470) /content/drive/MyDrive/yolor_input_video/video.mp4: 768x1280 4 persons, 2 bottles, 9 cups, 1 forks, 1 knifes, 2 spoons, 1 dining tables, 1 books, Done. (0.178s)\n",
            "video 1/1 (37/470) /content/drive/MyDrive/yolor_input_video/video.mp4: 768x1280 4 persons, 2 bottles, 9 cups, 1 forks, 1 knifes, 2 spoons, 1 dining tables, 2 books, Done. (0.178s)\n",
            "video 1/1 (38/470) /content/drive/MyDrive/yolor_input_video/video.mp4: 768x1280 4 persons, 2 bottles, 10 cups, 1 forks, 1 knifes, 2 spoons, 1 dining tables, 1 books, Done. (0.179s)\n",
            "video 1/1 (39/470) /content/drive/MyDrive/yolor_input_video/video.mp4: 768x1280 4 persons, 2 bottles, 10 cups, 1 forks, 1 knifes, 3 spoons, 1 chairs, 1 dining tables, 1 books, Done. (0.179s)\n",
            "video 1/1 (40/470) /content/drive/MyDrive/yolor_input_video/video.mp4: 768x1280 4 persons, 2 bottles, 9 cups, 1 forks, 1 knifes, 3 spoons, 1 dining tables, 1 books, Done. (0.178s)\n",
            "video 1/1 (41/470) /content/drive/MyDrive/yolor_input_video/video.mp4: 768x1280 4 persons, 2 bottles, 9 cups, 1 forks, 1 knifes, 3 spoons, 1 dining tables, 1 books, Done. (0.179s)\n",
            "video 1/1 (42/470) /content/drive/MyDrive/yolor_input_video/video.mp4: 768x1280 4 persons, 2 bottles, 8 cups, 1 forks, 1 knifes, 2 spoons, 1 dining tables, 1 books, Done. (0.179s)\n",
            "video 1/1 (43/470) /content/drive/MyDrive/yolor_input_video/video.mp4: 768x1280 4 persons, 2 bottles, 9 cups, 1 forks, 1 knifes, 1 spoons, 1 dining tables, 1 books, Done. (0.178s)\n",
            "video 1/1 (44/470) /content/drive/MyDrive/yolor_input_video/video.mp4: 768x1280 4 persons, 2 bottles, 9 cups, 1 knifes, 1 spoons, 1 dining tables, 1 books, Done. (0.179s)\n",
            "video 1/1 (45/470) /content/drive/MyDrive/yolor_input_video/video.mp4: 768x1280 4 persons, 2 bottles, 8 cups, 1 forks, 1 knifes, 1 spoons, 1 dining tables, 1 books, Done. (0.180s)\n",
            "video 1/1 (46/470) /content/drive/MyDrive/yolor_input_video/video.mp4: 768x1280 4 persons, 2 bottles, 9 cups, 1 forks, 1 knifes, 1 spoons, 1 dining tables, 1 books, Done. (0.179s)\n",
            "video 1/1 (47/470) /content/drive/MyDrive/yolor_input_video/video.mp4: 768x1280 4 persons, 2 bottles, 8 cups, 1 knifes, 2 spoons, 1 dining tables, 1 books, Done. (0.178s)\n",
            "video 1/1 (48/470) /content/drive/MyDrive/yolor_input_video/video.mp4: 768x1280 4 persons, 1 bottles, 9 cups, 1 forks, 1 knifes, 3 spoons, 1 dining tables, 1 books, Done. (0.179s)\n",
            "video 1/1 (49/470) /content/drive/MyDrive/yolor_input_video/video.mp4: 768x1280 4 persons, 1 bottles, 9 cups, 1 forks, 1 knifes, 4 spoons, 1 dining tables, 1 books, Done. (0.179s)\n",
            "video 1/1 (50/470) /content/drive/MyDrive/yolor_input_video/video.mp4: 768x1280 4 persons, 2 bottles, 8 cups, 1 forks, 1 knifes, 4 spoons, 1 chairs, 1 dining tables, 1 books, Done. (0.179s)\n",
            "video 1/1 (51/470) /content/drive/MyDrive/yolor_input_video/video.mp4: 768x1280 4 persons, 2 bottles, 8 cups, 1 knifes, 4 spoons, 1 chairs, 1 dining tables, 1 books, Done. (0.180s)\n",
            "video 1/1 (52/470) /content/drive/MyDrive/yolor_input_video/video.mp4: 768x1280 5 persons, 2 bottles, 8 cups, 1 knifes, 4 spoons, 1 dining tables, 1 teddy bears, Done. (0.178s)\n",
            "video 1/1 (53/470) /content/drive/MyDrive/yolor_input_video/video.mp4: 768x1280 5 persons, 1 bottles, 9 cups, 2 knifes, 4 spoons, 1 dining tables, 1 teddy bears, Done. (0.178s)\n",
            "video 1/1 (54/470) /content/drive/MyDrive/yolor_input_video/video.mp4: 768x1280 5 persons, 1 bottles, 9 cups, 2 knifes, 4 spoons, 1 dining tables, 1 books, 1 teddy bears, Done. (0.180s)\n",
            "video 1/1 (55/470) /content/drive/MyDrive/yolor_input_video/video.mp4: 768x1280 5 persons, 1 bottles, 9 cups, 1 knifes, 4 spoons, 1 dining tables, 1 books, 1 teddy bears, Done. (0.179s)\n",
            "video 1/1 (56/470) /content/drive/MyDrive/yolor_input_video/video.mp4: 768x1280 6 persons, 1 bottles, 8 cups, 1 knifes, 4 spoons, 1 dining tables, 1 books, 1 teddy bears, Done. (0.179s)\n",
            "video 1/1 (57/470) /content/drive/MyDrive/yolor_input_video/video.mp4: 768x1280 6 persons, 1 bottles, 7 cups, 1 knifes, 4 spoons, 1 dining tables, 1 books, 1 teddy bears, Done. (0.179s)\n",
            "video 1/1 (58/470) /content/drive/MyDrive/yolor_input_video/video.mp4: 768x1280 5 persons, 1 bottles, 6 cups, 1 knifes, 3 spoons, 1 dining tables, 1 books, 1 teddy bears, Done. (0.179s)\n",
            "video 1/1 (59/470) /content/drive/MyDrive/yolor_input_video/video.mp4: 768x1280 5 persons, 1 bottles, 6 cups, 1 forks, 1 knifes, 4 spoons, 1 dining tables, 1 teddy bears, Done. (0.179s)\n",
            "video 1/1 (60/470) /content/drive/MyDrive/yolor_input_video/video.mp4: 768x1280 5 persons, 1 bottles, 6 cups, 1 knifes, 3 spoons, 1 dining tables, 1 teddy bears, Done. (0.179s)\n",
            "video 1/1 (61/470) /content/drive/MyDrive/yolor_input_video/video.mp4: 768x1280 5 persons, 1 bottles, 8 cups, 1 knifes, 2 spoons, 1 dining tables, 1 teddy bears, Done. (0.178s)\n",
            "video 1/1 (62/470) /content/drive/MyDrive/yolor_input_video/video.mp4: 768x1280 5 persons, 1 bottles, 9 cups, 1 knifes, 2 spoons, 1 dining tables, 1 scissorss, 1 teddy bears, Done. (0.179s)\n",
            "video 1/1 (63/470) /content/drive/MyDrive/yolor_input_video/video.mp4: 768x1280 5 persons, 1 bottles, 9 cups, 1 knifes, 1 spoons, 2 dining tables, 1 teddy bears, 1 toothbrushs, Done. (0.179s)\n",
            "video 1/1 (64/470) /content/drive/MyDrive/yolor_input_video/video.mp4: 768x1280 5 persons, 1 bottles, 9 cups, 1 knifes, 1 spoons, 2 dining tables, 1 scissorss, 1 teddy bears, 1 toothbrushs, Done. (0.178s)\n",
            "video 1/1 (65/470) /content/drive/MyDrive/yolor_input_video/video.mp4: 768x1280 5 persons, 1 bottles, 9 cups, 2 knifes, 1 spoons, 2 dining tables, 2 books, 1 teddy bears, Done. (0.179s)\n",
            "video 1/1 (66/470) /content/drive/MyDrive/yolor_input_video/video.mp4: 768x1280 5 persons, 1 bottles, 10 cups, 2 knifes, 1 spoons, 2 dining tables, 1 teddy bears, Done. (0.179s)\n",
            "video 1/1 (67/470) /content/drive/MyDrive/yolor_input_video/video.mp4: 768x1280 5 persons, 1 bottles, 9 cups, 2 knifes, 1 spoons, 2 dining tables, 1 teddy bears, Done. (0.179s)\n",
            "video 1/1 (68/470) /content/drive/MyDrive/yolor_input_video/video.mp4: 768x1280 5 persons, 1 bottles, 10 cups, 1 knifes, 1 spoons, 2 dining tables, 1 books, 1 teddy bears, Done. (0.178s)\n",
            "video 1/1 (69/470) /content/drive/MyDrive/yolor_input_video/video.mp4: 768x1280 5 persons, 1 bottles, 9 cups, 2 knifes, 1 spoons, 2 dining tables, 1 books, 1 teddy bears, Done. (0.180s)\n",
            "video 1/1 (70/470) /content/drive/MyDrive/yolor_input_video/video.mp4: 768x1280 5 persons, 1 bottles, 9 cups, 2 knifes, 1 spoons, 1 dining tables, 1 books, 1 teddy bears, Done. (0.179s)\n",
            "video 1/1 (71/470) /content/drive/MyDrive/yolor_input_video/video.mp4: 768x1280 5 persons, 1 bottles, 9 cups, 2 knifes, 1 spoons, 1 dining tables, 1 books, 1 teddy bears, Done. (0.178s)\n",
            "video 1/1 (72/470) /content/drive/MyDrive/yolor_input_video/video.mp4: 768x1280 5 persons, 1 bottles, 9 cups, 2 knifes, 2 dining tables, 1 books, 1 scissorss, 1 teddy bears, Done. (0.178s)\n",
            "video 1/1 (73/470) /content/drive/MyDrive/yolor_input_video/video.mp4: 768x1280 4 persons, 1 bottles, 9 cups, 2 knifes, 2 dining tables, 1 books, 1 scissorss, 1 teddy bears, Done. (0.179s)\n",
            "video 1/1 (74/470) /content/drive/MyDrive/yolor_input_video/video.mp4: 768x1280 4 persons, 1 bottles, 9 cups, 2 knifes, 2 dining tables, 1 books, 1 scissorss, 1 teddy bears, Done. (0.179s)\n",
            "video 1/1 (75/470) /content/drive/MyDrive/yolor_input_video/video.mp4: 768x1280 4 persons, 1 bottles, 9 cups, 1 knifes, 1 spoons, 2 dining tables, 1 books, 1 scissorss, 1 teddy bears, Done. (0.178s)\n",
            "video 1/1 (76/470) /content/drive/MyDrive/yolor_input_video/video.mp4: 768x1280 4 persons, 1 bottles, 9 cups, 1 knifes, 1 spoons, 2 dining tables, 1 books, 1 scissorss, 1 teddy bears, Done. (0.179s)\n",
            "video 1/1 (77/470) /content/drive/MyDrive/yolor_input_video/video.mp4: 768x1280 4 persons, 1 bottles, 8 cups, 1 knifes, 2 spoons, 2 dining tables, 1 books, 1 scissorss, 1 teddy bears, Done. (0.181s)\n",
            "video 1/1 (78/470) /content/drive/MyDrive/yolor_input_video/video.mp4: 768x1280 4 persons, 1 bottles, 8 cups, 1 knifes, 2 spoons, 2 dining tables, 1 books, 1 scissorss, 1 teddy bears, Done. (0.179s)\n",
            "video 1/1 (79/470) /content/drive/MyDrive/yolor_input_video/video.mp4: 768x1280 4 persons, 1 bottles, 9 cups, 1 knifes, 2 spoons, 2 dining tables, 1 books, 1 scissorss, 1 teddy bears, Done. (0.178s)\n",
            "video 1/1 (80/470) /content/drive/MyDrive/yolor_input_video/video.mp4: 768x1280 4 persons, 1 bottles, 8 cups, 1 knifes, 1 spoons, 2 dining tables, 2 books, 1 scissorss, 1 teddy bears, Done. (0.179s)\n",
            "video 1/1 (81/470) /content/drive/MyDrive/yolor_input_video/video.mp4: 768x1280 4 persons, 1 bottles, 9 cups, 1 knifes, 1 spoons, 2 dining tables, 3 books, 1 scissorss, 1 teddy bears, Done. (0.178s)\n",
            "video 1/1 (82/470) /content/drive/MyDrive/yolor_input_video/video.mp4: 768x1280 4 persons, 1 bottles, 9 cups, 1 knifes, 1 spoons, 2 dining tables, 2 books, 1 scissorss, 1 teddy bears, Done. (0.179s)\n",
            "video 1/1 (83/470) /content/drive/MyDrive/yolor_input_video/video.mp4: 768x1280 4 persons, 1 bottles, 7 cups, 1 knifes, 2 spoons, 2 dining tables, 2 books, 1 scissorss, 1 teddy bears, Done. (0.180s)\n",
            "video 1/1 (84/470) /content/drive/MyDrive/yolor_input_video/video.mp4: 768x1280 4 persons, 1 bottles, 7 cups, 1 forks, 1 knifes, 2 spoons, 2 dining tables, 1 teddy bears, Done. (0.180s)\n",
            "video 1/1 (85/470) /content/drive/MyDrive/yolor_input_video/video.mp4: 768x1280 4 persons, 1 bottles, 7 cups, 1 forks, 2 knifes, 2 spoons, 2 dining tables, 1 teddy bears, Done. (0.179s)\n",
            "video 1/1 (86/470) /content/drive/MyDrive/yolor_input_video/video.mp4: 768x1280 4 persons, 1 bottles, 9 cups, 1 forks, 2 knifes, 2 spoons, 2 dining tables, 1 teddy bears, Done. (0.179s)\n",
            "video 1/1 (87/470) /content/drive/MyDrive/yolor_input_video/video.mp4: 768x1280 4 persons, 1 bottles, 8 cups, 2 knifes, 1 spoons, 2 dining tables, 1 teddy bears, Done. (0.178s)\n",
            "video 1/1 (88/470) /content/drive/MyDrive/yolor_input_video/video.mp4: 768x1280 4 persons, 1 bottles, 9 cups, 1 knifes, 1 spoons, 2 dining tables, 1 teddy bears, Done. (0.179s)\n",
            "video 1/1 (89/470) /content/drive/MyDrive/yolor_input_video/video.mp4: 768x1280 4 persons, 1 bottles, 9 cups, 1 forks, 1 knifes, 1 spoons, 2 dining tables, 1 teddy bears, Done. (0.179s)\n",
            "video 1/1 (90/470) /content/drive/MyDrive/yolor_input_video/video.mp4: 768x1280 4 persons, 1 bottles, 8 cups, 1 forks, 2 knifes, 1 spoons, 2 dining tables, 1 teddy bears, Done. (0.179s)\n",
            "video 1/1 (91/470) /content/drive/MyDrive/yolor_input_video/video.mp4: 768x1280 4 persons, 1 bottles, 7 cups, 1 forks, 2 knifes, 1 spoons, 3 dining tables, 1 teddy bears, Done. (0.179s)\n",
            "video 1/1 (92/470) /content/drive/MyDrive/yolor_input_video/video.mp4: 768x1280 4 persons, 1 bottles, 8 cups, 2 knifes, 1 spoons, 2 dining tables, 1 teddy bears, Done. (0.179s)\n",
            "video 1/1 (93/470) /content/drive/MyDrive/yolor_input_video/video.mp4: 768x1280 4 persons, 1 bottles, 8 cups, 2 knifes, 1 spoons, 2 dining tables, 1 teddy bears, Done. (0.178s)\n",
            "video 1/1 (94/470) /content/drive/MyDrive/yolor_input_video/video.mp4: 768x1280 4 persons, 1 bottles, 8 cups, 2 knifes, 1 spoons, 2 dining tables, 1 teddy bears, Done. (0.180s)\n",
            "video 1/1 (95/470) /content/drive/MyDrive/yolor_input_video/video.mp4: 768x1280 4 persons, 1 bottles, 8 cups, 1 forks, 1 knifes, 2 spoons, 2 dining tables, 1 teddy bears, Done. (0.179s)\n",
            "video 1/1 (96/470) /content/drive/MyDrive/yolor_input_video/video.mp4: 768x1280 4 persons, 1 bottles, 8 cups, 1 forks, 2 knifes, 2 spoons, 2 dining tables, 1 teddy bears, Done. (0.179s)\n",
            "video 1/1 (97/470) /content/drive/MyDrive/yolor_input_video/video.mp4: 768x1280 4 persons, 1 bottles, 9 cups, 1 forks, 1 knifes, 2 spoons, 2 dining tables, 1 teddy bears, Done. (0.179s)\n",
            "video 1/1 (98/470) /content/drive/MyDrive/yolor_input_video/video.mp4: 768x1280 4 persons, 1 bottles, 8 cups, 1 forks, 1 spoons, 2 dining tables, 1 books, 1 scissorss, 1 teddy bears, Done. (0.179s)\n",
            "video 1/1 (99/470) /content/drive/MyDrive/yolor_input_video/video.mp4: 768x1280 4 persons, 1 bottles, 7 cups, 1 forks, 1 knifes, 2 spoons, 2 dining tables, 1 books, 1 teddy bears, Done. (0.178s)\n",
            "video 1/1 (100/470) /content/drive/MyDrive/yolor_input_video/video.mp4: 768x1280 4 persons, 1 bottles, 9 cups, 1 forks, 1 knifes, 1 spoons, 2 dining tables, 1 books, 1 teddy bears, Done. (0.179s)\n",
            "video 1/1 (101/470) /content/drive/MyDrive/yolor_input_video/video.mp4: 768x1280 4 persons, 1 bottles, 8 cups, 1 forks, 1 knifes, 1 spoons, 2 dining tables, 1 books, 1 teddy bears, Done. (0.180s)\n",
            "video 1/1 (102/470) /content/drive/MyDrive/yolor_input_video/video.mp4: 768x1280 4 persons, 1 bottles, 8 cups, 1 forks, 1 knifes, 1 spoons, 2 dining tables, 1 books, 1 teddy bears, Done. (0.178s)\n",
            "video 1/1 (103/470) /content/drive/MyDrive/yolor_input_video/video.mp4: 768x1280 4 persons, 1 bottles, 9 cups, 1 forks, 2 knifes, 1 spoons, 2 dining tables, 1 books, 1 teddy bears, Done. (0.179s)\n",
            "video 1/1 (104/470) /content/drive/MyDrive/yolor_input_video/video.mp4: 768x1280 4 persons, 1 bottles, 8 cups, 1 knifes, 1 spoons, 1 dining tables, 1 books, 1 teddy bears, Done. (0.179s)\n",
            "video 1/1 (105/470) /content/drive/MyDrive/yolor_input_video/video.mp4: 768x1280 4 persons, 1 bottles, 8 cups, 1 knifes, 1 spoons, 1 dining tables, 1 books, 1 teddy bears, Done. (0.179s)\n",
            "video 1/1 (106/470) /content/drive/MyDrive/yolor_input_video/video.mp4: 768x1280 4 persons, 1 bottles, 9 cups, 1 forks, 1 knifes, 1 spoons, 1 dining tables, 1 books, 1 teddy bears, Done. (0.179s)\n",
            "video 1/1 (107/470) /content/drive/MyDrive/yolor_input_video/video.mp4: 768x1280 4 persons, 1 bottles, 10 cups, 1 forks, 1 knifes, 1 spoons, 1 dining tables, 1 teddy bears, Done. (0.180s)\n",
            "video 1/1 (108/470) /content/drive/MyDrive/yolor_input_video/video.mp4: 768x1280 4 persons, 1 bottles, 10 cups, 1 forks, 1 knifes, 1 spoons, 2 dining tables, 1 teddy bears, Done. (0.179s)\n",
            "video 1/1 (109/470) /content/drive/MyDrive/yolor_input_video/video.mp4: 768x1280 4 persons, 1 bottles, 10 cups, 1 forks, 2 knifes, 1 spoons, 2 dining tables, 1 books, 1 teddy bears, Done. (0.179s)\n",
            "video 1/1 (110/470) /content/drive/MyDrive/yolor_input_video/video.mp4: 768x1280 4 persons, 1 bottles, 10 cups, 1 forks, 2 knifes, 1 spoons, 2 dining tables, 1 books, 1 teddy bears, Done. (0.180s)\n",
            "video 1/1 (111/470) /content/drive/MyDrive/yolor_input_video/video.mp4: 768x1280 4 persons, 1 bottles, 9 cups, 2 knifes, 1 chairs, 2 dining tables, 1 books, 1 teddy bears, Done. (0.180s)\n",
            "video 1/1 (112/470) /content/drive/MyDrive/yolor_input_video/video.mp4: 768x1280 4 persons, 1 bottles, 9 cups, 2 knifes, 1 spoons, 1 chairs, 2 dining tables, 1 books, 1 teddy bears, Done. (0.179s)\n",
            "video 1/1 (113/470) /content/drive/MyDrive/yolor_input_video/video.mp4: 768x1280 4 persons, 1 bottles, 9 cups, 2 knifes, 1 spoons, 1 chairs, 2 dining tables, 1 teddy bears, Done. (0.180s)\n",
            "video 1/1 (114/470) /content/drive/MyDrive/yolor_input_video/video.mp4: 768x1280 4 persons, 1 bottles, 8 cups, 1 knifes, 1 spoons, 2 dining tables, Done. (0.179s)\n",
            "video 1/1 (115/470) /content/drive/MyDrive/yolor_input_video/video.mp4: 768x1280 4 persons, 1 bottles, 9 cups, 1 spoons, 2 dining tables, Done. (0.178s)\n",
            "video 1/1 (116/470) /content/drive/MyDrive/yolor_input_video/video.mp4: 768x1280 4 persons, 1 bottles, 8 cups, 1 knifes, 1 spoons, 1 dining tables, Done. (0.178s)\n",
            "video 1/1 (117/470) /content/drive/MyDrive/yolor_input_video/video.mp4: 768x1280 4 persons, 2 bottles, 8 cups, 1 knifes, 1 spoons, 2 dining tables, Done. (0.178s)\n",
            "video 1/1 (118/470) /content/drive/MyDrive/yolor_input_video/video.mp4: 768x1280 4 persons, 2 bottles, 9 cups, 1 knifes, 1 spoons, 2 dining tables, Done. (0.179s)\n",
            "video 1/1 (119/470) /content/drive/MyDrive/yolor_input_video/video.mp4: 768x1280 4 persons, 2 bottles, 8 cups, 2 spoons, 1 dining tables, Done. (0.180s)\n",
            "video 1/1 (120/470) /content/drive/MyDrive/yolor_input_video/video.mp4: 768x1280 4 persons, 1 bottles, 8 cups, 1 spoons, 1 dining tables, Done. (0.179s)\n",
            "video 1/1 (121/470) /content/drive/MyDrive/yolor_input_video/video.mp4: 768x1280 4 persons, 1 bottles, 7 cups, 1 spoons, 1 dining tables, Done. (0.179s)\n",
            "video 1/1 (122/470) /content/drive/MyDrive/yolor_input_video/video.mp4: 768x1280 4 persons, 1 bottles, 8 cups, 1 spoons, 1 dining tables, Done. (0.179s)\n",
            "video 1/1 (123/470) /content/drive/MyDrive/yolor_input_video/video.mp4: 768x1280 4 persons, 1 bottles, 8 cups, 1 knifes, 1 spoons, 1 dining tables, Done. (0.179s)\n",
            "video 1/1 (124/470) /content/drive/MyDrive/yolor_input_video/video.mp4: 768x1280 4 persons, 1 bottles, 8 cups, 1 knifes, 1 spoons, 1 dining tables, Done. (0.179s)\n",
            "video 1/1 (125/470) /content/drive/MyDrive/yolor_input_video/video.mp4: 768x1280 4 persons, 1 bottles, 8 cups, 1 knifes, 1 spoons, 1 dining tables, Done. (0.180s)\n",
            "video 1/1 (126/470) /content/drive/MyDrive/yolor_input_video/video.mp4: 768x1280 4 persons, 1 bottles, 8 cups, 1 knifes, 1 spoons, 1 dining tables, Done. (0.179s)\n",
            "video 1/1 (127/470) /content/drive/MyDrive/yolor_input_video/video.mp4: 768x1280 4 persons, 1 bottles, 8 cups, 1 spoons, 1 dining tables, Done. (0.179s)\n",
            "video 1/1 (128/470) /content/drive/MyDrive/yolor_input_video/video.mp4: 768x1280 4 persons, 1 bottles, 8 cups, 1 spoons, 1 dining tables, 1 scissorss, Done. (0.178s)\n",
            "video 1/1 (129/470) /content/drive/MyDrive/yolor_input_video/video.mp4: 768x1280 4 persons, 1 bottles, 8 cups, 1 spoons, 1 dining tables, Done. (0.179s)\n",
            "video 1/1 (130/470) /content/drive/MyDrive/yolor_input_video/video.mp4: 768x1280 4 persons, 1 bottles, 8 cups, 1 spoons, 1 dining tables, Done. (0.179s)\n",
            "video 1/1 (131/470) /content/drive/MyDrive/yolor_input_video/video.mp4: 768x1280 4 persons, 1 bottles, 8 cups, 1 spoons, 1 dining tables, Done. (0.178s)\n",
            "video 1/1 (132/470) /content/drive/MyDrive/yolor_input_video/video.mp4: 768x1280 4 persons, 1 bottles, 8 cups, 1 spoons, 2 dining tables, Done. (0.179s)\n",
            "video 1/1 (133/470) /content/drive/MyDrive/yolor_input_video/video.mp4: 768x1280 4 persons, 2 bottles, 8 cups, 1 knifes, 1 spoons, 1 dining tables, Done. (0.179s)\n",
            "video 1/1 (134/470) /content/drive/MyDrive/yolor_input_video/video.mp4: 768x1280 4 persons, 3 bottles, 8 cups, 1 knifes, 1 spoons, 2 dining tables, Done. (0.181s)\n",
            "video 1/1 (135/470) /content/drive/MyDrive/yolor_input_video/video.mp4: 768x1280 4 persons, 2 bottles, 8 cups, 1 knifes, 1 spoons, 2 dining tables, Done. (0.179s)\n",
            "video 1/1 (136/470) /content/drive/MyDrive/yolor_input_video/video.mp4: 768x1280 4 persons, 1 bottles, 8 cups, 1 knifes, 1 spoons, 2 dining tables, Done. (0.178s)\n",
            "video 1/1 (137/470) /content/drive/MyDrive/yolor_input_video/video.mp4: 768x1280 4 persons, 1 bottles, 7 cups, 1 knifes, 1 spoons, 1 chairs, 2 dining tables, Done. (0.178s)\n",
            "video 1/1 (138/470) /content/drive/MyDrive/yolor_input_video/video.mp4: 768x1280 4 persons, 1 bottles, 8 cups, 1 knifes, 1 spoons, 1 chairs, 2 dining tables, Done. (0.181s)\n",
            "video 1/1 (139/470) /content/drive/MyDrive/yolor_input_video/video.mp4: 768x1280 4 persons, 1 bottles, 7 cups, 1 knifes, 1 spoons, 1 chairs, 2 dining tables, Done. (0.181s)\n",
            "video 1/1 (140/470) /content/drive/MyDrive/yolor_input_video/video.mp4: 768x1280 4 persons, 1 bottles, 7 cups, 1 knifes, 1 spoons, 2 chairs, 2 dining tables, Done. (0.181s)\n",
            "video 1/1 (141/470) /content/drive/MyDrive/yolor_input_video/video.mp4: 768x1280 4 persons, 1 bottles, 7 cups, 1 knifes, 1 spoons, 1 chairs, 2 dining tables, Done. (0.179s)\n",
            "video 1/1 (142/470) /content/drive/MyDrive/yolor_input_video/video.mp4: 768x1280 4 persons, 2 bottles, 7 cups, 1 knifes, 1 spoons, 1 chairs, 2 dining tables, Done. (0.180s)\n",
            "video 1/1 (143/470) /content/drive/MyDrive/yolor_input_video/video.mp4: 768x1280 4 persons, 2 bottles, 7 cups, 1 knifes, 1 spoons, 2 chairs, 2 dining tables, Done. (0.179s)\n",
            "video 1/1 (144/470) /content/drive/MyDrive/yolor_input_video/video.mp4: 768x1280 4 persons, 2 bottles, 7 cups, 2 knifes, 1 spoons, 1 chairs, 2 dining tables, Done. (0.180s)\n",
            "video 1/1 (145/470) /content/drive/MyDrive/yolor_input_video/video.mp4: 768x1280 4 persons, 1 bottles, 7 cups, 2 knifes, 1 spoons, 1 chairs, 2 dining tables, Done. (0.180s)\n",
            "video 1/1 (146/470) /content/drive/MyDrive/yolor_input_video/video.mp4: 768x1280 4 persons, 2 bottles, 8 cups, 1 knifes, 1 spoons, 2 dining tables, Done. (0.179s)\n",
            "video 1/1 (147/470) /content/drive/MyDrive/yolor_input_video/video.mp4: 768x1280 4 persons, 2 bottles, 9 cups, 1 knifes, 1 spoons, 2 dining tables, Done. (0.180s)\n",
            "video 1/1 (148/470) /content/drive/MyDrive/yolor_input_video/video.mp4: 768x1280 4 persons, 2 bottles, 8 cups, 1 knifes, 1 spoons, 1 dining tables, Done. (0.179s)\n",
            "video 1/1 (149/470) /content/drive/MyDrive/yolor_input_video/video.mp4: 768x1280 4 persons, 2 bottles, 8 cups, 1 knifes, 1 spoons, 1 dining tables, Done. (0.179s)\n",
            "video 1/1 (150/470) /content/drive/MyDrive/yolor_input_video/video.mp4: 768x1280 4 persons, 1 bottles, 7 cups, 1 knifes, 1 spoons, 1 dining tables, Done. (0.180s)\n",
            "video 1/1 (151/470) /content/drive/MyDrive/yolor_input_video/video.mp4: 768x1280 4 persons, 2 bottles, 7 cups, 1 knifes, 1 spoons, 1 dining tables, Done. (0.180s)\n",
            "video 1/1 (152/470) /content/drive/MyDrive/yolor_input_video/video.mp4: 768x1280 4 persons, 2 bottles, 7 cups, 1 knifes, 1 spoons, 1 dining tables, Done. (0.179s)\n",
            "video 1/1 (153/470) /content/drive/MyDrive/yolor_input_video/video.mp4: 768x1280 4 persons, 2 bottles, 7 cups, 1 knifes, 1 spoons, 1 chairs, 1 dining tables, Done. (0.180s)\n",
            "video 1/1 (154/470) /content/drive/MyDrive/yolor_input_video/video.mp4: 768x1280 4 persons, 1 bottles, 7 cups, 1 knifes, 1 spoons, 1 chairs, 1 dining tables, Done. (0.179s)\n",
            "video 1/1 (155/470) /content/drive/MyDrive/yolor_input_video/video.mp4: 768x1280 4 persons, 1 bottles, 7 cups, 1 knifes, 1 spoons, 1 chairs, 1 dining tables, Done. (0.178s)\n",
            "video 1/1 (156/470) /content/drive/MyDrive/yolor_input_video/video.mp4: 768x1280 4 persons, 1 bottles, 6 cups, 1 knifes, 1 spoons, 1 dining tables, Done. (0.180s)\n",
            "video 1/1 (157/470) /content/drive/MyDrive/yolor_input_video/video.mp4: 768x1280 4 persons, 2 bottles, 7 cups, 1 knifes, 1 spoons, 1 dining tables, Done. (0.180s)\n",
            "video 1/1 (158/470) /content/drive/MyDrive/yolor_input_video/video.mp4: 768x1280 4 persons, 1 bottles, 7 cups, 1 knifes, 1 spoons, 1 dining tables, Done. (0.179s)\n",
            "video 1/1 (159/470) /content/drive/MyDrive/yolor_input_video/video.mp4: 768x1280 4 persons, 1 bottles, 7 cups, 1 forks, 2 knifes, 1 spoons, 1 dining tables, Done. (0.178s)\n",
            "video 1/1 (160/470) /content/drive/MyDrive/yolor_input_video/video.mp4: 768x1280 4 persons, 2 bottles, 7 cups, 2 knifes, 1 spoons, 1 dining tables, Done. (0.179s)\n",
            "video 1/1 (161/470) /content/drive/MyDrive/yolor_input_video/video.mp4: 768x1280 4 persons, 1 bottles, 7 cups, 2 knifes, 1 spoons, 1 dining tables, Done. (0.180s)\n",
            "video 1/1 (162/470) /content/drive/MyDrive/yolor_input_video/video.mp4: 768x1280 4 persons, 1 bottles, 7 cups, 2 knifes, 1 spoons, 1 dining tables, 1 scissorss, Done. (0.179s)\n",
            "video 1/1 (163/470) /content/drive/MyDrive/yolor_input_video/video.mp4: 768x1280 4 persons, 1 bottles, 7 cups, 2 knifes, 1 spoons, 1 dining tables, 1 scissorss, Done. (0.179s)\n",
            "video 1/1 (164/470) /content/drive/MyDrive/yolor_input_video/video.mp4: 768x1280 4 persons, 1 bottles, 6 cups, 2 knifes, 1 spoons, 1 dining tables, 1 scissorss, Done. (0.180s)\n",
            "video 1/1 (165/470) /content/drive/MyDrive/yolor_input_video/video.mp4: 768x1280 4 persons, 1 bottles, 6 cups, 1 knifes, 1 spoons, 1 dining tables, 1 scissorss, Done. (0.180s)\n",
            "video 1/1 (166/470) /content/drive/MyDrive/yolor_input_video/video.mp4: 768x1280 4 persons, 1 bottles, 6 cups, 1 knifes, 1 spoons, 1 dining tables, 1 scissorss, Done. (0.180s)\n",
            "video 1/1 (167/470) /content/drive/MyDrive/yolor_input_video/video.mp4: 768x1280 4 persons, 2 bottles, 6 cups, 1 knifes, 1 spoons, 1 dining tables, 1 scissorss, Done. (0.179s)\n",
            "video 1/1 (168/470) /content/drive/MyDrive/yolor_input_video/video.mp4: 768x1280 4 persons, 1 bottles, 6 cups, 1 knifes, 1 spoons, 1 dining tables, 1 scissorss, Done. (0.180s)\n",
            "video 1/1 (169/470) /content/drive/MyDrive/yolor_input_video/video.mp4: 768x1280 4 persons, 1 bottles, 6 cups, 1 knifes, 1 spoons, 1 dining tables, 1 scissorss, Done. (0.180s)\n",
            "video 1/1 (170/470) /content/drive/MyDrive/yolor_input_video/video.mp4: 768x1280 4 persons, 1 bottles, 6 cups, 1 knifes, 1 spoons, 1 dining tables, 1 scissorss, Done. (0.179s)\n",
            "video 1/1 (171/470) /content/drive/MyDrive/yolor_input_video/video.mp4: 768x1280 4 persons, 2 bottles, 7 cups, 1 knifes, 1 spoons, 1 dining tables, 1 scissorss, Done. (0.179s)\n",
            "video 1/1 (172/470) /content/drive/MyDrive/yolor_input_video/video.mp4: 768x1280 4 persons, 1 bottles, 8 cups, 1 knifes, 1 spoons, 1 dining tables, 1 scissorss, Done. (0.178s)\n",
            "video 1/1 (173/470) /content/drive/MyDrive/yolor_input_video/video.mp4: 768x1280 4 persons, 1 bottles, 6 cups, 1 knifes, 1 spoons, 1 dining tables, 1 scissorss, Done. (0.178s)\n",
            "video 1/1 (174/470) /content/drive/MyDrive/yolor_input_video/video.mp4: 768x1280 4 persons, 1 bottles, 7 cups, 1 knifes, 1 spoons, 1 dining tables, 1 scissorss, Done. (0.179s)\n",
            "video 1/1 (175/470) /content/drive/MyDrive/yolor_input_video/video.mp4: 768x1280 4 persons, 1 bottles, 7 cups, 1 knifes, 1 spoons, 1 dining tables, 1 scissorss, Done. (0.179s)\n",
            "video 1/1 (176/470) /content/drive/MyDrive/yolor_input_video/video.mp4: 768x1280 4 persons, 1 bottles, 7 cups, 1 knifes, 1 spoons, 1 dining tables, 1 scissorss, Done. (0.178s)\n",
            "video 1/1 (177/470) /content/drive/MyDrive/yolor_input_video/video.mp4: 768x1280 4 persons, 1 bottles, 7 cups, 2 knifes, 1 spoons, 1 dining tables, 1 scissorss, Done. (0.178s)\n",
            "video 1/1 (178/470) /content/drive/MyDrive/yolor_input_video/video.mp4: 768x1280 4 persons, 2 bottles, 7 cups, 1 spoons, 1 dining tables, 1 scissorss, Done. (0.180s)\n",
            "video 1/1 (179/470) /content/drive/MyDrive/yolor_input_video/video.mp4: 768x1280 4 persons, 1 bottles, 7 cups, 1 spoons, 1 dining tables, 1 scissorss, Done. (0.179s)\n",
            "video 1/1 (180/470) /content/drive/MyDrive/yolor_input_video/video.mp4: 768x1280 4 persons, 1 bottles, 8 cups, 1 spoons, 1 dining tables, 1 scissorss, Done. (0.178s)\n",
            "video 1/1 (181/470) /content/drive/MyDrive/yolor_input_video/video.mp4: 768x1280 4 persons, 2 bottles, 7 cups, 1 spoons, 1 dining tables, 1 scissorss, Done. (0.178s)\n",
            "video 1/1 (182/470) /content/drive/MyDrive/yolor_input_video/video.mp4: 768x1280 4 persons, 2 bottles, 5 cups, 1 spoons, 1 dining tables, 1 scissorss, Done. (0.178s)\n",
            "video 1/1 (183/470) /content/drive/MyDrive/yolor_input_video/video.mp4: 768x1280 4 persons, 2 bottles, 5 cups, 1 spoons, 1 dining tables, 1 scissorss, Done. (0.178s)\n",
            "video 1/1 (184/470) /content/drive/MyDrive/yolor_input_video/video.mp4: 768x1280 4 persons, 2 bottles, 5 cups, 1 spoons, 1 chairs, 1 dining tables, 1 scissorss, Done. (0.179s)\n",
            "video 1/1 (185/470) /content/drive/MyDrive/yolor_input_video/video.mp4: 768x1280 4 persons, 2 bottles, 6 cups, 1 spoons, 1 chairs, 1 dining tables, 1 scissorss, Done. (0.178s)\n",
            "video 1/1 (186/470) /content/drive/MyDrive/yolor_input_video/video.mp4: 768x1280 4 persons, 2 bottles, 6 cups, 1 spoons, 1 chairs, 1 dining tables, 1 scissorss, Done. (0.179s)\n",
            "video 1/1 (187/470) /content/drive/MyDrive/yolor_input_video/video.mp4: 768x1280 4 persons, 2 bottles, 7 cups, 1 spoons, 1 chairs, 1 dining tables, 1 scissorss, Done. (0.179s)\n",
            "video 1/1 (188/470) /content/drive/MyDrive/yolor_input_video/video.mp4: 768x1280 4 persons, 2 bottles, 7 cups, 1 spoons, 1 chairs, 1 dining tables, 1 scissorss, Done. (0.177s)\n",
            "video 1/1 (189/470) /content/drive/MyDrive/yolor_input_video/video.mp4: 768x1280 4 persons, 2 bottles, 7 cups, 1 spoons, 1 dining tables, 1 scissorss, Done. (0.178s)\n",
            "video 1/1 (190/470) /content/drive/MyDrive/yolor_input_video/video.mp4: 768x1280 4 persons, 2 bottles, 6 cups, 1 spoons, 3 chairs, 1 dining tables, 1 scissorss, Done. (0.179s)\n",
            "video 1/1 (191/470) /content/drive/MyDrive/yolor_input_video/video.mp4: 768x1280 4 persons, 2 bottles, 8 cups, 1 spoons, 2 chairs, 1 dining tables, 1 scissorss, Done. (0.179s)\n",
            "video 1/1 (192/470) /content/drive/MyDrive/yolor_input_video/video.mp4: 768x1280 4 persons, 2 bottles, 6 cups, 1 spoons, 3 chairs, 1 dining tables, 1 scissorss, Done. (0.178s)\n",
            "video 1/1 (193/470) /content/drive/MyDrive/yolor_input_video/video.mp4: 768x1280 4 persons, 2 bottles, 9 cups, 1 spoons, 2 chairs, 1 dining tables, 1 scissorss, Done. (0.178s)\n",
            "video 1/1 (194/470) /content/drive/MyDrive/yolor_input_video/video.mp4: 768x1280 4 persons, 2 bottles, 7 cups, 1 spoons, 1 bowls, 3 chairs, 1 dining tables, 1 scissorss, Done. (0.178s)\n",
            "video 1/1 (195/470) /content/drive/MyDrive/yolor_input_video/video.mp4: 768x1280 4 persons, 3 bottles, 8 cups, 1 spoons, 1 bowls, 2 chairs, 1 dining tables, 1 scissorss, Done. (0.179s)\n",
            "video 1/1 (196/470) /content/drive/MyDrive/yolor_input_video/video.mp4: 768x1280 4 persons, 2 bottles, 5 cups, 1 spoons, 1 chairs, 1 dining tables, 1 scissorss, Done. (0.178s)\n",
            "video 1/1 (197/470) /content/drive/MyDrive/yolor_input_video/video.mp4: 768x1280 4 persons, 3 bottles, 5 cups, 1 spoons, 1 chairs, 1 dining tables, 1 scissorss, Done. (0.179s)\n",
            "video 1/1 (198/470) /content/drive/MyDrive/yolor_input_video/video.mp4: 768x1280 4 persons, 2 bottles, 7 cups, 1 knifes, 1 spoons, 1 bowls, 1 chairs, 1 dining tables, 1 scissorss, Done. (0.179s)\n",
            "video 1/1 (199/470) /content/drive/MyDrive/yolor_input_video/video.mp4: 768x1280 4 persons, 2 bottles, 7 cups, 1 knifes, 1 spoons, 1 chairs, 1 dining tables, 1 scissorss, Done. (0.179s)\n",
            "video 1/1 (200/470) /content/drive/MyDrive/yolor_input_video/video.mp4: 768x1280 4 persons, 2 bottles, 8 cups, 1 knifes, 1 spoons, 1 chairs, 1 dining tables, 1 scissorss, Done. (0.179s)\n",
            "video 1/1 (201/470) /content/drive/MyDrive/yolor_input_video/video.mp4: 768x1280 4 persons, 2 bottles, 6 cups, 1 spoons, 1 dining tables, 1 scissorss, Done. (0.181s)\n",
            "video 1/1 (202/470) /content/drive/MyDrive/yolor_input_video/video.mp4: 768x1280 4 persons, 2 bottles, 6 cups, 1 spoons, 1 dining tables, 1 scissorss, Done. (0.179s)\n",
            "video 1/1 (203/470) /content/drive/MyDrive/yolor_input_video/video.mp4: 768x1280 4 persons, 2 bottles, 7 cups, 1 spoons, 1 dining tables, 1 mouses, 1 scissorss, Done. (0.178s)\n",
            "video 1/1 (204/470) /content/drive/MyDrive/yolor_input_video/video.mp4: 768x1280 4 persons, 2 bottles, 8 cups, 1 spoons, 1 dining tables, 1 mouses, 1 scissorss, Done. (0.178s)\n",
            "video 1/1 (205/470) /content/drive/MyDrive/yolor_input_video/video.mp4: 768x1280 4 persons, 2 bottles, 7 cups, 1 spoons, 1 bowls, 1 dining tables, 1 mouses, 1 scissorss, Done. (0.179s)\n",
            "video 1/1 (206/470) /content/drive/MyDrive/yolor_input_video/video.mp4: 768x1280 4 persons, 2 bottles, 7 cups, 1 spoons, 1 bowls, 1 dining tables, 1 scissorss, Done. (0.178s)\n",
            "video 1/1 (207/470) /content/drive/MyDrive/yolor_input_video/video.mp4: 768x1280 4 persons, 2 bottles, 8 cups, 1 spoons, 1 bowls, 1 dining tables, 1 scissorss, Done. (0.179s)\n",
            "video 1/1 (208/470) /content/drive/MyDrive/yolor_input_video/video.mp4: 768x1280 4 persons, 2 bottles, 8 cups, 1 spoons, 1 dining tables, 1 scissorss, Done. (0.179s)\n",
            "video 1/1 (209/470) /content/drive/MyDrive/yolor_input_video/video.mp4: 768x1280 4 persons, 2 bottles, 8 cups, 1 spoons, 1 dining tables, 1 scissorss, Done. (0.178s)\n",
            "video 1/1 (210/470) /content/drive/MyDrive/yolor_input_video/video.mp4: 768x1280 4 persons, 2 bottles, 9 cups, 1 spoons, 1 dining tables, 1 scissorss, Done. (0.179s)\n",
            "video 1/1 (211/470) /content/drive/MyDrive/yolor_input_video/video.mp4: 768x1280 4 persons, 2 bottles, 9 cups, 2 spoons, 1 chairs, 1 dining tables, 1 scissorss, Done. (0.179s)\n",
            "video 1/1 (212/470) /content/drive/MyDrive/yolor_input_video/video.mp4: 768x1280 4 persons, 2 bottles, 8 cups, 2 spoons, 1 dining tables, 1 scissorss, Done. (0.179s)\n",
            "video 1/1 (213/470) /content/drive/MyDrive/yolor_input_video/video.mp4: 768x1280 4 persons, 3 bottles, 8 cups, 1 spoons, 1 chairs, 1 dining tables, 1 scissorss, Done. (0.179s)\n",
            "video 1/1 (214/470) /content/drive/MyDrive/yolor_input_video/video.mp4: 768x1280 4 persons, 3 bottles, 7 cups, 1 spoons, 1 chairs, 1 dining tables, 1 scissorss, Done. (0.180s)\n",
            "video 1/1 (215/470) /content/drive/MyDrive/yolor_input_video/video.mp4: 768x1280 4 persons, 3 bottles, 6 cups, 2 spoons, 1 chairs, 1 dining tables, 1 scissorss, Done. (0.179s)\n",
            "video 1/1 (216/470) /content/drive/MyDrive/yolor_input_video/video.mp4: 768x1280 4 persons, 3 bottles, 6 cups, 2 spoons, 1 chairs, 1 dining tables, 1 scissorss, Done. (0.178s)\n",
            "video 1/1 (217/470) /content/drive/MyDrive/yolor_input_video/video.mp4: 768x1280 4 persons, 3 bottles, 7 cups, 2 spoons, 1 bowls, 1 chairs, 1 dining tables, 1 scissorss, Done. (0.179s)\n",
            "video 1/1 (218/470) /content/drive/MyDrive/yolor_input_video/video.mp4: 768x1280 4 persons, 3 bottles, 6 cups, 2 spoons, 1 bowls, 1 chairs, 1 dining tables, 1 scissorss, Done. (0.178s)\n",
            "video 1/1 (219/470) /content/drive/MyDrive/yolor_input_video/video.mp4: 768x1280 4 persons, 3 bottles, 7 cups, 2 spoons, 1 chairs, 1 dining tables, 1 scissorss, Done. (0.179s)\n",
            "video 1/1 (220/470) /content/drive/MyDrive/yolor_input_video/video.mp4: 768x1280 4 persons, 3 bottles, 7 cups, 2 spoons, 1 bowls, 2 chairs, 1 dining tables, 1 scissorss, Done. (0.178s)\n",
            "video 1/1 (221/470) /content/drive/MyDrive/yolor_input_video/video.mp4: 768x1280 4 persons, 3 bottles, 7 cups, 2 spoons, 1 bowls, 2 chairs, 1 dining tables, 1 scissorss, Done. (0.180s)\n",
            "video 1/1 (222/470) /content/drive/MyDrive/yolor_input_video/video.mp4: 768x1280 4 persons, 3 bottles, 8 cups, 3 spoons, 1 bowls, 2 chairs, 1 dining tables, 1 scissorss, Done. (0.179s)\n",
            "video 1/1 (223/470) /content/drive/MyDrive/yolor_input_video/video.mp4: 768x1280 4 persons, 3 bottles, 7 cups, 2 spoons, 2 chairs, 1 dining tables, 1 scissorss, Done. (0.179s)\n",
            "video 1/1 (224/470) /content/drive/MyDrive/yolor_input_video/video.mp4: 768x1280 4 persons, 3 bottles, 7 cups, 2 spoons, 1 bowls, 2 chairs, 1 dining tables, 1 scissorss, Done. (0.179s)\n",
            "video 1/1 (225/470) /content/drive/MyDrive/yolor_input_video/video.mp4: 768x1280 4 persons, 3 bottles, 8 cups, 2 spoons, 1 bowls, 2 chairs, 1 dining tables, 1 scissorss, Done. (0.179s)\n",
            "video 1/1 (226/470) /content/drive/MyDrive/yolor_input_video/video.mp4: 768x1280 4 persons, 3 bottles, 7 cups, 1 spoons, 1 chairs, 1 dining tables, 1 scissorss, Done. (0.178s)\n",
            "video 1/1 (227/470) /content/drive/MyDrive/yolor_input_video/video.mp4: 768x1280 4 persons, 3 bottles, 5 cups, 1 spoons, 1 chairs, 1 dining tables, 1 scissorss, Done. (0.179s)\n",
            "video 1/1 (228/470) /content/drive/MyDrive/yolor_input_video/video.mp4: 768x1280 4 persons, 3 bottles, 6 cups, 1 knifes, 1 spoons, 1 chairs, 1 dining tables, 1 scissorss, Done. (0.179s)\n",
            "video 1/1 (229/470) /content/drive/MyDrive/yolor_input_video/video.mp4: 768x1280 5 persons, 3 bottles, 7 cups, 1 spoons, 1 bowls, 2 chairs, 1 dining tables, 1 scissorss, Done. (0.181s)\n",
            "video 1/1 (230/470) /content/drive/MyDrive/yolor_input_video/video.mp4: 768x1280 4 persons, 3 bottles, 8 cups, 1 forks, 1 knifes, 1 spoons, 1 bowls, 1 chairs, 1 dining tables, 1 scissorss, Done. (0.180s)\n",
            "video 1/1 (231/470) /content/drive/MyDrive/yolor_input_video/video.mp4: 768x1280 4 persons, 4 bottles, 8 cups, 1 knifes, 1 spoons, 1 chairs, 1 dining tables, 1 scissorss, Done. (0.179s)\n",
            "video 1/1 (232/470) /content/drive/MyDrive/yolor_input_video/video.mp4: 768x1280 4 persons, 4 bottles, 8 cups, 2 spoons, 1 chairs, 1 dining tables, 1 scissorss, Done. (0.179s)\n",
            "video 1/1 (233/470) /content/drive/MyDrive/yolor_input_video/video.mp4: 768x1280 4 persons, 2 bottles, 7 cups, 1 knifes, 3 spoons, 1 bowls, 1 chairs, 1 dining tables, 1 scissorss, Done. (0.178s)\n",
            "video 1/1 (234/470) /content/drive/MyDrive/yolor_input_video/video.mp4: 768x1280 4 persons, 2 bottles, 9 cups, 1 knifes, 2 spoons, 1 bowls, 1 chairs, 1 dining tables, 1 scissorss, Done. (0.179s)\n",
            "video 1/1 (235/470) /content/drive/MyDrive/yolor_input_video/video.mp4: 768x1280 4 persons, 2 bottles, 9 cups, 1 knifes, 2 spoons, 1 dining tables, 1 scissorss, Done. (0.178s)\n",
            "video 1/1 (236/470) /content/drive/MyDrive/yolor_input_video/video.mp4: 768x1280 4 persons, 3 bottles, 9 cups, 1 knifes, 2 spoons, 1 dining tables, 1 scissorss, Done. (0.179s)\n",
            "video 1/1 (237/470) /content/drive/MyDrive/yolor_input_video/video.mp4: 768x1280 4 persons, 2 bottles, 9 cups, 1 forks, 1 knifes, 2 spoons, 1 dining tables, Done. (0.178s)\n",
            "video 1/1 (238/470) /content/drive/MyDrive/yolor_input_video/video.mp4: 768x1280 4 persons, 2 bottles, 9 cups, 2 spoons, 1 bowls, 1 chairs, 1 dining tables, Done. (0.179s)\n",
            "video 1/1 (239/470) /content/drive/MyDrive/yolor_input_video/video.mp4: 768x1280 4 persons, 2 bottles, 8 cups, 2 spoons, 1 bowls, 1 chairs, 1 dining tables, Done. (0.178s)\n",
            "video 1/1 (240/470) /content/drive/MyDrive/yolor_input_video/video.mp4: 768x1280 4 persons, 2 bottles, 8 cups, 2 spoons, 1 bowls, 1 chairs, 1 dining tables, Done. (0.179s)\n",
            "video 1/1 (241/470) /content/drive/MyDrive/yolor_input_video/video.mp4: 768x1280 4 persons, 3 bottles, 7 cups, 2 spoons, 1 bowls, 1 chairs, 1 dining tables, Done. (0.179s)\n",
            "video 1/1 (242/470) /content/drive/MyDrive/yolor_input_video/video.mp4: 768x1280 4 persons, 3 bottles, 6 cups, 1 spoons, 1 bowls, 1 chairs, 1 dining tables, Done. (0.179s)\n",
            "video 1/1 (243/470) /content/drive/MyDrive/yolor_input_video/video.mp4: 768x1280 4 persons, 2 bottles, 8 cups, 1 spoons, 1 bowls, 1 dining tables, Done. (0.179s)\n",
            "video 1/1 (244/470) /content/drive/MyDrive/yolor_input_video/video.mp4: 768x1280 4 persons, 2 bottles, 7 cups, 1 spoons, 1 dining tables, Done. (0.178s)\n",
            "video 1/1 (245/470) /content/drive/MyDrive/yolor_input_video/video.mp4: 768x1280 4 persons, 2 bottles, 8 cups, 1 spoons, 1 bowls, 1 chairs, 1 dining tables, Done. (0.179s)\n",
            "video 1/1 (246/470) /content/drive/MyDrive/yolor_input_video/video.mp4: 768x1280 4 persons, 2 bottles, 6 cups, 1 spoons, 1 bowls, 1 chairs, 1 dining tables, Done. (0.178s)\n",
            "video 1/1 (247/470) /content/drive/MyDrive/yolor_input_video/video.mp4: 768x1280 4 persons, 2 bottles, 8 cups, 2 spoons, 1 bowls, 1 chairs, 1 dining tables, Done. (0.178s)\n",
            "video 1/1 (248/470) /content/drive/MyDrive/yolor_input_video/video.mp4: 768x1280 4 persons, 2 bottles, 9 cups, 2 spoons, 1 bowls, 1 chairs, 1 dining tables, 1 scissorss, Done. (0.179s)\n",
            "video 1/1 (249/470) /content/drive/MyDrive/yolor_input_video/video.mp4: 768x1280 4 persons, 2 bottles, 9 cups, 1 forks, 2 spoons, 1 bowls, 1 dining tables, 1 scissorss, Done. (0.178s)\n",
            "video 1/1 (250/470) /content/drive/MyDrive/yolor_input_video/video.mp4: 768x1280 4 persons, 2 bottles, 10 cups, 2 spoons, 1 bowls, 1 dining tables, 1 scissorss, Done. (0.179s)\n",
            "video 1/1 (251/470) /content/drive/MyDrive/yolor_input_video/video.mp4: 768x1280 4 persons, 2 bottles, 11 cups, 2 spoons, 1 bowls, 1 dining tables, 1 scissorss, Done. (0.179s)\n",
            "video 1/1 (252/470) /content/drive/MyDrive/yolor_input_video/video.mp4: 768x1280 4 persons, 2 bottles, 10 cups, 2 spoons, 1 dining tables, 1 scissorss, Done. (0.178s)\n",
            "video 1/1 (253/470) /content/drive/MyDrive/yolor_input_video/video.mp4: 768x1280 4 persons, 2 bottles, 9 cups, 2 spoons, 1 dining tables, 1 scissorss, Done. (0.179s)\n",
            "video 1/1 (254/470) /content/drive/MyDrive/yolor_input_video/video.mp4: 768x1280 4 persons, 3 bottles, 11 cups, 1 knifes, 2 spoons, 1 chairs, 1 dining tables, 1 scissorss, Done. (0.179s)\n",
            "video 1/1 (255/470) /content/drive/MyDrive/yolor_input_video/video.mp4: 768x1280 4 persons, 3 bottles, 11 cups, 3 spoons, 1 chairs, 1 dining tables, 1 scissorss, Done. (0.179s)\n",
            "video 1/1 (256/470) /content/drive/MyDrive/yolor_input_video/video.mp4: 768x1280 4 persons, 2 bottles, 9 cups, 1 forks, 3 spoons, 1 bowls, 1 chairs, 1 dining tables, 1 scissorss, Done. (0.179s)\n",
            "video 1/1 (257/470) /content/drive/MyDrive/yolor_input_video/video.mp4: 768x1280 4 persons, 3 bottles, 10 cups, 3 spoons, 1 chairs, 1 dining tables, Done. (0.181s)\n",
            "video 1/1 (258/470) /content/drive/MyDrive/yolor_input_video/video.mp4: 768x1280 4 persons, 3 bottles, 9 cups, 1 knifes, 3 spoons, 1 bowls, 1 chairs, 1 dining tables, 1 scissorss, Done. (0.179s)\n",
            "video 1/1 (259/470) /content/drive/MyDrive/yolor_input_video/video.mp4: 768x1280 4 persons, 3 bottles, 10 cups, 3 spoons, 1 bowls, 1 chairs, 1 dining tables, Done. (0.180s)\n",
            "video 1/1 (260/470) /content/drive/MyDrive/yolor_input_video/video.mp4: 768x1280 4 persons, 3 bottles, 11 cups, 2 spoons, 1 bowls, 1 chairs, 1 dining tables, Done. (0.178s)\n",
            "video 1/1 (261/470) /content/drive/MyDrive/yolor_input_video/video.mp4: 768x1280 4 persons, 3 bottles, 12 cups, 1 spoons, 1 bowls, 1 chairs, 1 dining tables, Done. (0.179s)\n",
            "video 1/1 (262/470) /content/drive/MyDrive/yolor_input_video/video.mp4: 768x1280 4 persons, 3 bottles, 11 cups, 1 forks, 1 knifes, 2 spoons, 1 bowls, 1 chairs, 1 dining tables, Done. (0.179s)\n",
            "video 1/1 (263/470) /content/drive/MyDrive/yolor_input_video/video.mp4: 768x1280 4 persons, 3 bottles, 11 cups, 1 forks, 1 spoons, 1 bowls, 1 chairs, 1 dining tables, Done. (0.179s)\n",
            "video 1/1 (264/470) /content/drive/MyDrive/yolor_input_video/video.mp4: 768x1280 4 persons, 3 bottles, 11 cups, 1 forks, 3 spoons, 1 bowls, 1 dining tables, Done. (0.179s)\n",
            "video 1/1 (265/470) /content/drive/MyDrive/yolor_input_video/video.mp4: 768x1280 4 persons, 3 bottles, 12 cups, 1 forks, 2 spoons, 1 bowls, 1 dining tables, Done. (0.179s)\n",
            "video 1/1 (266/470) /content/drive/MyDrive/yolor_input_video/video.mp4: 768x1280 4 persons, 2 bottles, 11 cups, 1 forks, 1 knifes, 2 spoons, 1 dining tables, Done. (0.179s)\n",
            "video 1/1 (267/470) /content/drive/MyDrive/yolor_input_video/video.mp4: 768x1280 4 persons, 2 bottles, 10 cups, 1 forks, 1 knifes, 2 spoons, 1 dining tables, Done. (0.179s)\n",
            "video 1/1 (268/470) /content/drive/MyDrive/yolor_input_video/video.mp4: 768x1280 4 persons, 2 bottles, 11 cups, 1 forks, 1 knifes, 2 spoons, 1 dining tables, Done. (0.178s)\n",
            "video 1/1 (269/470) /content/drive/MyDrive/yolor_input_video/video.mp4: 768x1280 4 persons, 2 bottles, 12 cups, 1 forks, 1 knifes, 2 spoons, 1 dining tables, Done. (0.179s)\n",
            "video 1/1 (270/470) /content/drive/MyDrive/yolor_input_video/video.mp4: 768x1280 4 persons, 2 bottles, 13 cups, 1 forks, 1 knifes, 2 spoons, 1 dining tables, Done. (0.179s)\n",
            "video 1/1 (271/470) /content/drive/MyDrive/yolor_input_video/video.mp4: 768x1280 4 persons, 2 bottles, 11 cups, 1 forks, 1 knifes, 2 spoons, 1 dining tables, Done. (0.179s)\n",
            "video 1/1 (272/470) /content/drive/MyDrive/yolor_input_video/video.mp4: 768x1280 4 persons, 2 bottles, 10 cups, 1 forks, 1 knifes, 2 spoons, 1 dining tables, Done. (0.178s)\n",
            "video 1/1 (273/470) /content/drive/MyDrive/yolor_input_video/video.mp4: 768x1280 4 persons, 2 bottles, 10 cups, 1 forks, 2 spoons, 1 dining tables, Done. (0.179s)\n",
            "video 1/1 (274/470) /content/drive/MyDrive/yolor_input_video/video.mp4: 768x1280 4 persons, 3 bottles, 10 cups, 1 forks, 2 spoons, 1 dining tables, Done. (0.179s)\n",
            "video 1/1 (275/470) /content/drive/MyDrive/yolor_input_video/video.mp4: 768x1280 4 persons, 3 bottles, 11 cups, 1 forks, 2 spoons, 1 dining tables, Done. (0.178s)\n",
            "video 1/1 (276/470) /content/drive/MyDrive/yolor_input_video/video.mp4: 768x1280 4 persons, 1 bottles, 10 cups, 1 forks, 2 spoons, 1 dining tables, Done. (0.179s)\n",
            "video 1/1 (277/470) /content/drive/MyDrive/yolor_input_video/video.mp4: 768x1280 4 persons, 1 bottles, 10 cups, 1 forks, 2 spoons, 1 dining tables, Done. (0.180s)\n",
            "video 1/1 (278/470) /content/drive/MyDrive/yolor_input_video/video.mp4: 768x1280 4 persons, 2 bottles, 9 cups, 1 forks, 3 spoons, 1 dining tables, Done. (0.178s)\n",
            "video 1/1 (279/470) /content/drive/MyDrive/yolor_input_video/video.mp4: 768x1280 4 persons, 2 bottles, 8 cups, 1 forks, 1 knifes, 2 spoons, 1 dining tables, Done. (0.180s)\n",
            "video 1/1 (280/470) /content/drive/MyDrive/yolor_input_video/video.mp4: 768x1280 4 persons, 2 bottles, 9 cups, 1 forks, 1 knifes, 3 spoons, 1 dining tables, Done. (0.179s)\n",
            "video 1/1 (281/470) /content/drive/MyDrive/yolor_input_video/video.mp4: 768x1280 4 persons, 2 bottles, 10 cups, 1 forks, 1 knifes, 2 spoons, 1 dining tables, Done. (0.180s)\n",
            "video 1/1 (282/470) /content/drive/MyDrive/yolor_input_video/video.mp4: 768x1280 4 persons, 2 bottles, 11 cups, 1 forks, 1 knifes, 3 spoons, 1 dining tables, Done. (0.180s)\n",
            "video 1/1 (283/470) /content/drive/MyDrive/yolor_input_video/video.mp4: 768x1280 4 persons, 2 bottles, 9 cups, 1 forks, 1 knifes, 3 spoons, 1 dining tables, Done. (0.178s)\n",
            "video 1/1 (284/470) /content/drive/MyDrive/yolor_input_video/video.mp4: 768x1280 4 persons, 2 bottles, 9 cups, 1 forks, 1 knifes, 3 spoons, 1 dining tables, 1 scissorss, Done. (0.179s)\n",
            "video 1/1 (285/470) /content/drive/MyDrive/yolor_input_video/video.mp4: 768x1280 4 persons, 2 bottles, 9 cups, 1 forks, 1 knifes, 2 spoons, 1 dining tables, Done. (0.179s)\n",
            "video 1/1 (286/470) /content/drive/MyDrive/yolor_input_video/video.mp4: 768x1280 4 persons, 2 bottles, 10 cups, 1 forks, 1 knifes, 2 spoons, 1 dining tables, 1 scissorss, Done. (0.179s)\n",
            "video 1/1 (287/470) /content/drive/MyDrive/yolor_input_video/video.mp4: 768x1280 4 persons, 2 bottles, 10 cups, 1 forks, 1 knifes, 2 spoons, 1 dining tables, Done. (0.178s)\n",
            "video 1/1 (288/470) /content/drive/MyDrive/yolor_input_video/video.mp4: 768x1280 4 persons, 2 bottles, 10 cups, 1 forks, 2 knifes, 1 spoons, 1 dining tables, Done. (0.178s)\n",
            "video 1/1 (289/470) /content/drive/MyDrive/yolor_input_video/video.mp4: 768x1280 4 persons, 2 bottles, 10 cups, 1 knifes, 1 spoons, 1 dining tables, Done. (0.179s)\n",
            "video 1/1 (290/470) /content/drive/MyDrive/yolor_input_video/video.mp4: 768x1280 4 persons, 2 bottles, 11 cups, 1 spoons, 1 dining tables, Done. (0.179s)\n",
            "video 1/1 (291/470) /content/drive/MyDrive/yolor_input_video/video.mp4: 768x1280 4 persons, 2 bottles, 8 cups, 1 spoons, 1 dining tables, Done. (0.179s)\n",
            "video 1/1 (292/470) /content/drive/MyDrive/yolor_input_video/video.mp4: 768x1280 4 persons, 2 bottles, 9 cups, 2 spoons, 1 chairs, 1 dining tables, Done. (0.179s)\n",
            "video 1/1 (293/470) /content/drive/MyDrive/yolor_input_video/video.mp4: 768x1280 4 persons, 2 bottles, 11 cups, 1 spoons, 1 chairs, 1 dining tables, Done. (0.179s)\n",
            "video 1/1 (294/470) /content/drive/MyDrive/yolor_input_video/video.mp4: 768x1280 4 persons, 1 bottles, 12 cups, 1 spoons, 1 chairs, 1 dining tables, Done. (0.179s)\n",
            "video 1/1 (295/470) /content/drive/MyDrive/yolor_input_video/video.mp4: 768x1280 4 persons, 1 bottles, 12 cups, 1 spoons, 1 chairs, 1 dining tables, Done. (0.179s)\n",
            "video 1/1 (296/470) /content/drive/MyDrive/yolor_input_video/video.mp4: 768x1280 4 persons, 1 bottles, 10 cups, 1 spoons, 1 chairs, 1 dining tables, Done. (0.179s)\n",
            "video 1/1 (297/470) /content/drive/MyDrive/yolor_input_video/video.mp4: 768x1280 4 persons, 2 bottles, 10 cups, 1 spoons, 1 chairs, 1 dining tables, Done. (0.181s)\n",
            "video 1/1 (298/470) /content/drive/MyDrive/yolor_input_video/video.mp4: 768x1280 4 persons, 1 bottles, 11 cups, 1 spoons, 1 chairs, 1 dining tables, Done. (0.179s)\n",
            "video 1/1 (299/470) /content/drive/MyDrive/yolor_input_video/video.mp4: 768x1280 4 persons, 1 bottles, 11 cups, 1 spoons, 1 chairs, 1 dining tables, Done. (0.179s)\n",
            "video 1/1 (300/470) /content/drive/MyDrive/yolor_input_video/video.mp4: 768x1280 4 persons, 1 bottles, 12 cups, 1 forks, 1 spoons, 1 chairs, 1 dining tables, Done. (0.179s)\n",
            "video 1/1 (301/470) /content/drive/MyDrive/yolor_input_video/video.mp4: 768x1280 4 persons, 1 bottles, 12 cups, 1 forks, 1 spoons, 1 chairs, 1 dining tables, Done. (0.180s)\n",
            "video 1/1 (302/470) /content/drive/MyDrive/yolor_input_video/video.mp4: 768x1280 4 persons, 1 bottles, 12 cups, 1 spoons, 1 chairs, 1 dining tables, Done. (0.179s)\n",
            "video 1/1 (303/470) /content/drive/MyDrive/yolor_input_video/video.mp4: 768x1280 4 persons, 1 bottles, 12 cups, 1 forks, 1 spoons, 1 chairs, 1 dining tables, Done. (0.180s)\n",
            "video 1/1 (304/470) /content/drive/MyDrive/yolor_input_video/video.mp4: 768x1280 4 persons, 1 bottles, 11 cups, 1 spoons, 1 chairs, 1 dining tables, Done. (0.179s)\n",
            "video 1/1 (305/470) /content/drive/MyDrive/yolor_input_video/video.mp4: 768x1280 4 persons, 1 bottles, 11 cups, 1 spoons, 1 chairs, 1 dining tables, Done. (0.180s)\n",
            "video 1/1 (306/470) /content/drive/MyDrive/yolor_input_video/video.mp4: 768x1280 4 persons, 1 bottles, 11 cups, 1 spoons, 1 chairs, 1 dining tables, Done. (0.178s)\n",
            "video 1/1 (307/470) /content/drive/MyDrive/yolor_input_video/video.mp4: 768x1280 4 persons, 1 bottles, 12 cups, 1 spoons, 1 chairs, 1 dining tables, Done. (0.180s)\n",
            "video 1/1 (308/470) /content/drive/MyDrive/yolor_input_video/video.mp4: 768x1280 4 persons, 1 bottles, 15 cups, 1 spoons, 1 chairs, 1 dining tables, Done. (0.179s)\n",
            "video 1/1 (309/470) /content/drive/MyDrive/yolor_input_video/video.mp4: 768x1280 4 persons, 1 bottles, 13 cups, 1 forks, 1 spoons, 1 chairs, 1 dining tables, Done. (0.178s)\n",
            "video 1/1 (310/470) /content/drive/MyDrive/yolor_input_video/video.mp4: 768x1280 4 persons, 1 bottles, 13 cups, 1 forks, 2 spoons, 1 chairs, 1 dining tables, Done. (0.179s)\n",
            "video 1/1 (311/470) /content/drive/MyDrive/yolor_input_video/video.mp4: 768x1280 4 persons, 1 bottles, 13 cups, 1 spoons, 1 chairs, 1 dining tables, Done. (0.179s)\n",
            "video 1/1 (312/470) /content/drive/MyDrive/yolor_input_video/video.mp4: 768x1280 4 persons, 1 bottles, 13 cups, 1 spoons, 1 chairs, 1 dining tables, Done. (0.179s)\n",
            "video 1/1 (313/470) /content/drive/MyDrive/yolor_input_video/video.mp4: 768x1280 4 persons, 1 bottles, 12 cups, 1 forks, 1 spoons, 1 chairs, 1 dining tables, Done. (0.178s)\n",
            "video 1/1 (314/470) /content/drive/MyDrive/yolor_input_video/video.mp4: 768x1280 4 persons, 1 bottles, 12 cups, 1 forks, 1 spoons, 1 chairs, 1 dining tables, Done. (0.178s)\n",
            "video 1/1 (315/470) /content/drive/MyDrive/yolor_input_video/video.mp4: 768x1280 4 persons, 1 bottles, 12 cups, 1 forks, 1 spoons, 1 chairs, 1 dining tables, Done. (0.179s)\n",
            "video 1/1 (316/470) /content/drive/MyDrive/yolor_input_video/video.mp4: 768x1280 4 persons, 1 bottles, 12 cups, 1 forks, 1 spoons, 1 chairs, 1 dining tables, Done. (0.179s)\n",
            "video 1/1 (317/470) /content/drive/MyDrive/yolor_input_video/video.mp4: 768x1280 4 persons, 1 bottles, 13 cups, 1 forks, 1 spoons, 1 dining tables, Done. (0.178s)\n",
            "video 1/1 (318/470) /content/drive/MyDrive/yolor_input_video/video.mp4: 768x1280 4 persons, 1 bottles, 12 cups, 1 spoons, 1 dining tables, Done. (0.179s)\n",
            "video 1/1 (319/470) /content/drive/MyDrive/yolor_input_video/video.mp4: 768x1280 4 persons, 1 bottles, 13 cups, 1 spoons, 1 bowls, 1 dining tables, Done. (0.179s)\n",
            "video 1/1 (320/470) /content/drive/MyDrive/yolor_input_video/video.mp4: 768x1280 4 persons, 1 bottles, 12 cups, 1 spoons, 1 bowls, 1 dining tables, Done. (0.179s)\n",
            "video 1/1 (321/470) /content/drive/MyDrive/yolor_input_video/video.mp4: 768x1280 4 persons, 1 bottles, 13 cups, 1 forks, 1 knifes, 1 spoons, 1 bowls, 1 dining tables, Done. (0.178s)\n",
            "video 1/1 (322/470) /content/drive/MyDrive/yolor_input_video/video.mp4: 768x1280 4 persons, 1 bottles, 15 cups, 1 spoons, 1 bowls, 1 dining tables, Done. (0.178s)\n",
            "video 1/1 (323/470) /content/drive/MyDrive/yolor_input_video/video.mp4: 768x1280 4 persons, 1 bottles, 14 cups, 1 spoons, 1 bowls, 1 dining tables, Done. (0.180s)\n",
            "video 1/1 (324/470) /content/drive/MyDrive/yolor_input_video/video.mp4: 768x1280 4 persons, 1 bottles, 14 cups, 1 spoons, 1 bowls, 1 dining tables, Done. (0.179s)\n",
            "video 1/1 (325/470) /content/drive/MyDrive/yolor_input_video/video.mp4: 768x1280 4 persons, 1 bottles, 14 cups, 1 spoons, 1 bowls, 1 dining tables, Done. (0.179s)\n",
            "video 1/1 (326/470) /content/drive/MyDrive/yolor_input_video/video.mp4: 768x1280 4 persons, 1 bottles, 14 cups, 1 spoons, 1 bowls, 1 dining tables, Done. (0.179s)\n",
            "video 1/1 (327/470) /content/drive/MyDrive/yolor_input_video/video.mp4: 768x1280 4 persons, 1 bottles, 14 cups, 1 forks, 1 spoons, 1 bowls, 1 dining tables, Done. (0.179s)\n",
            "video 1/1 (328/470) /content/drive/MyDrive/yolor_input_video/video.mp4: 768x1280 4 persons, 1 bottles, 14 cups, 1 spoons, 1 bowls, 1 dining tables, Done. (0.180s)\n",
            "video 1/1 (329/470) /content/drive/MyDrive/yolor_input_video/video.mp4: 768x1280 4 persons, 1 bottles, 14 cups, 1 spoons, 1 bowls, 1 dining tables, Done. (0.179s)\n",
            "video 1/1 (330/470) /content/drive/MyDrive/yolor_input_video/video.mp4: 768x1280 4 persons, 1 bottles, 14 cups, 1 forks, 1 spoons, 1 bowls, 1 dining tables, Done. (0.179s)\n",
            "video 1/1 (331/470) /content/drive/MyDrive/yolor_input_video/video.mp4: 768x1280 4 persons, 1 bottles, 14 cups, 1 forks, 1 spoons, 1 bowls, 1 dining tables, Done. (0.179s)\n",
            "video 1/1 (332/470) /content/drive/MyDrive/yolor_input_video/video.mp4: 768x1280 4 persons, 1 bottles, 14 cups, 1 spoons, 1 bowls, 1 dining tables, Done. (0.180s)\n",
            "video 1/1 (333/470) /content/drive/MyDrive/yolor_input_video/video.mp4: 768x1280 4 persons, 1 bottles, 14 cups, 1 spoons, 1 bowls, 1 dining tables, Done. (0.179s)\n",
            "video 1/1 (334/470) /content/drive/MyDrive/yolor_input_video/video.mp4: 768x1280 4 persons, 1 bottles, 13 cups, 1 spoons, 1 bowls, 1 dining tables, Done. (0.178s)\n",
            "video 1/1 (335/470) /content/drive/MyDrive/yolor_input_video/video.mp4: 768x1280 4 persons, 1 bottles, 13 cups, 1 spoons, 1 bowls, 1 dining tables, Done. (0.179s)\n",
            "video 1/1 (336/470) /content/drive/MyDrive/yolor_input_video/video.mp4: 768x1280 4 persons, 1 bottles, 13 cups, 2 spoons, 1 bowls, 1 dining tables, Done. (0.179s)\n",
            "video 1/1 (337/470) /content/drive/MyDrive/yolor_input_video/video.mp4: 768x1280 4 persons, 1 bottles, 13 cups, 1 spoons, 1 bowls, 1 dining tables, Done. (0.180s)\n",
            "video 1/1 (338/470) /content/drive/MyDrive/yolor_input_video/video.mp4: 768x1280 4 persons, 1 bottles, 14 cups, 1 spoons, 1 bowls, 1 dining tables, Done. (0.179s)\n",
            "video 1/1 (339/470) /content/drive/MyDrive/yolor_input_video/video.mp4: 768x1280 4 persons, 1 bottles, 13 cups, 1 spoons, 1 bowls, 1 dining tables, Done. (0.179s)\n",
            "video 1/1 (340/470) /content/drive/MyDrive/yolor_input_video/video.mp4: 768x1280 4 persons, 2 bottles, 13 cups, 1 spoons, 1 bowls, 1 dining tables, Done. (0.179s)\n",
            "video 1/1 (341/470) /content/drive/MyDrive/yolor_input_video/video.mp4: 768x1280 4 persons, 2 bottles, 13 cups, 2 spoons, 1 bowls, 1 dining tables, Done. (0.178s)\n",
            "video 1/1 (342/470) /content/drive/MyDrive/yolor_input_video/video.mp4: 768x1280 4 persons, 2 bottles, 12 cups, 1 spoons, 1 bowls, 1 dining tables, Done. (0.179s)\n",
            "video 1/1 (343/470) /content/drive/MyDrive/yolor_input_video/video.mp4: 768x1280 4 persons, 2 bottles, 13 cups, 1 spoons, 1 bowls, 1 dining tables, Done. (0.180s)\n",
            "video 1/1 (344/470) /content/drive/MyDrive/yolor_input_video/video.mp4: 768x1280 4 persons, 2 bottles, 13 cups, 1 spoons, 1 bowls, 1 dining tables, Done. (0.179s)\n",
            "video 1/1 (345/470) /content/drive/MyDrive/yolor_input_video/video.mp4: 768x1280 4 persons, 3 bottles, 12 cups, 1 spoons, 1 bowls, 1 dining tables, Done. (0.178s)\n",
            "video 1/1 (346/470) /content/drive/MyDrive/yolor_input_video/video.mp4: 768x1280 4 persons, 3 bottles, 12 cups, 2 spoons, 1 dining tables, Done. (0.178s)\n",
            "video 1/1 (347/470) /content/drive/MyDrive/yolor_input_video/video.mp4: 768x1280 4 persons, 3 bottles, 11 cups, 1 spoons, 1 dining tables, Done. (0.180s)\n",
            "video 1/1 (348/470) /content/drive/MyDrive/yolor_input_video/video.mp4: 768x1280 4 persons, 3 bottles, 12 cups, 2 spoons, 1 dining tables, Done. (0.178s)\n",
            "video 1/1 (349/470) /content/drive/MyDrive/yolor_input_video/video.mp4: 768x1280 4 persons, 3 bottles, 11 cups, 2 knifes, 2 spoons, 1 chairs, 1 dining tables, Done. (0.179s)\n",
            "video 1/1 (350/470) /content/drive/MyDrive/yolor_input_video/video.mp4: 768x1280 4 persons, 2 bottles, 11 cups, 1 knifes, 3 spoons, 1 chairs, 1 dining tables, Done. (0.180s)\n",
            "video 1/1 (351/470) /content/drive/MyDrive/yolor_input_video/video.mp4: 768x1280 4 persons, 2 bottles, 11 cups, 1 knifes, 2 spoons, 2 chairs, 1 dining tables, Done. (0.178s)\n",
            "video 1/1 (352/470) /content/drive/MyDrive/yolor_input_video/video.mp4: 768x1280 4 persons, 2 bottles, 10 cups, 1 forks, 2 spoons, 2 chairs, 1 dining tables, Done. (0.179s)\n",
            "video 1/1 (353/470) /content/drive/MyDrive/yolor_input_video/video.mp4: 768x1280 4 persons, 2 bottles, 10 cups, 1 spoons, 2 chairs, 1 dining tables, Done. (0.179s)\n",
            "video 1/1 (354/470) /content/drive/MyDrive/yolor_input_video/video.mp4: 768x1280 4 persons, 2 bottles, 11 cups, 3 spoons, 2 chairs, 1 dining tables, Done. (0.179s)\n",
            "video 1/1 (355/470) /content/drive/MyDrive/yolor_input_video/video.mp4: 768x1280 4 persons, 2 bottles, 11 cups, 2 spoons, 1 chairs, 1 dining tables, Done. (0.180s)\n",
            "video 1/1 (356/470) /content/drive/MyDrive/yolor_input_video/video.mp4: 768x1280 4 persons, 2 bottles, 11 cups, 1 forks, 1 knifes, 2 spoons, 1 chairs, 1 dining tables, Done. (0.179s)\n",
            "video 1/1 (357/470) /content/drive/MyDrive/yolor_input_video/video.mp4: 768x1280 4 persons, 3 bottles, 11 cups, 1 forks, 1 knifes, 3 spoons, 1 chairs, 1 dining tables, Done. (0.180s)\n",
            "video 1/1 (358/470) /content/drive/MyDrive/yolor_input_video/video.mp4: 768x1280 4 persons, 3 bottles, 11 cups, 1 forks, 1 knifes, 3 spoons, 1 chairs, 1 dining tables, Done. (0.178s)\n",
            "video 1/1 (359/470) /content/drive/MyDrive/yolor_input_video/video.mp4: 768x1280 4 persons, 3 bottles, 11 cups, 1 forks, 3 spoons, 1 chairs, 1 dining tables, Done. (0.179s)\n",
            "video 1/1 (360/470) /content/drive/MyDrive/yolor_input_video/video.mp4: 768x1280 4 persons, 3 bottles, 11 cups, 1 forks, 2 spoons, 1 chairs, 1 dining tables, Done. (0.178s)\n",
            "video 1/1 (361/470) /content/drive/MyDrive/yolor_input_video/video.mp4: 768x1280 4 persons, 3 bottles, 11 cups, 1 spoons, 1 bowls, 1 chairs, 1 dining tables, Done. (0.179s)\n",
            "video 1/1 (362/470) /content/drive/MyDrive/yolor_input_video/video.mp4: 768x1280 4 persons, 3 bottles, 12 cups, 1 forks, 2 spoons, 1 chairs, 1 dining tables, Done. (0.180s)\n",
            "video 1/1 (363/470) /content/drive/MyDrive/yolor_input_video/video.mp4: 768x1280 4 persons, 3 bottles, 10 cups, 1 forks, 1 knifes, 1 spoons, 1 chairs, 1 dining tables, 1 scissorss, Done. (0.179s)\n",
            "video 1/1 (364/470) /content/drive/MyDrive/yolor_input_video/video.mp4: 768x1280 4 persons, 3 bottles, 10 cups, 1 forks, 1 knifes, 1 spoons, 1 bowls, 1 chairs, 1 dining tables, Done. (0.180s)\n",
            "video 1/1 (365/470) /content/drive/MyDrive/yolor_input_video/video.mp4: 768x1280 4 persons, 2 bottles, 11 cups, 1 forks, 1 knifes, 1 spoons, 1 dining tables, 1 scissorss, Done. (0.180s)\n",
            "video 1/1 (366/470) /content/drive/MyDrive/yolor_input_video/video.mp4: 768x1280 4 persons, 2 bottles, 12 cups, 1 forks, 1 spoons, 1 dining tables, 1 scissorss, Done. (0.179s)\n",
            "video 1/1 (367/470) /content/drive/MyDrive/yolor_input_video/video.mp4: 768x1280 4 persons, 2 bottles, 12 cups, 1 forks, 1 spoons, 1 bowls, 1 dining tables, 1 scissorss, Done. (0.179s)\n",
            "video 1/1 (368/470) /content/drive/MyDrive/yolor_input_video/video.mp4: 768x1280 4 persons, 3 bottles, 11 cups, 1 forks, 1 spoons, 1 dining tables, 1 scissorss, Done. (0.178s)\n",
            "video 1/1 (369/470) /content/drive/MyDrive/yolor_input_video/video.mp4: 768x1280 4 persons, 3 bottles, 12 cups, 1 spoons, 1 dining tables, Done. (0.179s)\n",
            "video 1/1 (370/470) /content/drive/MyDrive/yolor_input_video/video.mp4: 768x1280 4 persons, 3 bottles, 11 cups, 1 spoons, 1 dining tables, Done. (0.179s)\n",
            "video 1/1 (371/470) /content/drive/MyDrive/yolor_input_video/video.mp4: 768x1280 4 persons, 3 bottles, 12 cups, 1 spoons, 1 dining tables, Done. (0.179s)\n",
            "video 1/1 (372/470) /content/drive/MyDrive/yolor_input_video/video.mp4: 768x1280 4 persons, 3 bottles, 12 cups, 1 spoons, 1 dining tables, Done. (0.178s)\n",
            "video 1/1 (373/470) /content/drive/MyDrive/yolor_input_video/video.mp4: 768x1280 4 persons, 3 bottles, 10 cups, 2 spoons, 1 bowls, 1 chairs, 1 dining tables, Done. (0.179s)\n",
            "video 1/1 (374/470) /content/drive/MyDrive/yolor_input_video/video.mp4: 768x1280 4 persons, 3 bottles, 10 cups, 2 spoons, 2 bowls, 1 chairs, 1 dining tables, Done. (0.179s)\n",
            "video 1/1 (375/470) /content/drive/MyDrive/yolor_input_video/video.mp4: 768x1280 4 persons, 3 bottles, 10 cups, 1 spoons, 1 chairs, 1 dining tables, Done. (0.178s)\n",
            "video 1/1 (376/470) /content/drive/MyDrive/yolor_input_video/video.mp4: 768x1280 4 persons, 3 bottles, 10 cups, 2 spoons, 1 bowls, 1 chairs, 1 dining tables, Done. (0.179s)\n",
            "video 1/1 (377/470) /content/drive/MyDrive/yolor_input_video/video.mp4: 768x1280 4 persons, 3 bottles, 11 cups, 2 spoons, 1 chairs, 1 dining tables, Done. (0.179s)\n",
            "video 1/1 (378/470) /content/drive/MyDrive/yolor_input_video/video.mp4: 768x1280 4 persons, 3 bottles, 8 cups, 2 spoons, 1 chairs, 1 dining tables, Done. (0.180s)\n",
            "video 1/1 (379/470) /content/drive/MyDrive/yolor_input_video/video.mp4: 768x1280 4 persons, 3 bottles, 10 cups, 2 spoons, 1 dining tables, Done. (0.179s)\n",
            "video 1/1 (380/470) /content/drive/MyDrive/yolor_input_video/video.mp4: 768x1280 4 persons, 3 bottles, 9 cups, 2 spoons, 1 dining tables, Done. (0.179s)\n",
            "video 1/1 (381/470) /content/drive/MyDrive/yolor_input_video/video.mp4: 768x1280 4 persons, 3 bottles, 7 cups, 2 spoons, 1 dining tables, Done. (0.179s)\n",
            "video 1/1 (382/470) /content/drive/MyDrive/yolor_input_video/video.mp4: 768x1280 4 persons, 3 bottles, 8 cups, 1 forks, 2 spoons, 1 dining tables, Done. (0.179s)\n",
            "video 1/1 (383/470) /content/drive/MyDrive/yolor_input_video/video.mp4: 768x1280 4 persons, 3 bottles, 9 cups, 1 forks, 2 spoons, 1 dining tables, Done. (0.179s)\n",
            "video 1/1 (384/470) /content/drive/MyDrive/yolor_input_video/video.mp4: 768x1280 4 persons, 3 bottles, 9 cups, 1 forks, 1 knifes, 2 spoons, 1 chairs, 1 dining tables, Done. (0.179s)\n",
            "video 1/1 (385/470) /content/drive/MyDrive/yolor_input_video/video.mp4: 768x1280 4 persons, 3 bottles, 9 cups, 1 knifes, 2 spoons, 1 chairs, 1 dining tables, Done. (0.179s)\n",
            "video 1/1 (386/470) /content/drive/MyDrive/yolor_input_video/video.mp4: 768x1280 4 persons, 3 bottles, 9 cups, 1 knifes, 2 spoons, 1 chairs, 1 dining tables, Done. (0.180s)\n",
            "video 1/1 (387/470) /content/drive/MyDrive/yolor_input_video/video.mp4: 768x1280 4 persons, 3 bottles, 9 cups, 1 forks, 2 spoons, 1 chairs, 1 dining tables, Done. (0.178s)\n",
            "video 1/1 (388/470) /content/drive/MyDrive/yolor_input_video/video.mp4: 768x1280 4 persons, 3 bottles, 9 cups, 2 spoons, 1 chairs, 1 dining tables, Done. (0.180s)\n",
            "video 1/1 (389/470) /content/drive/MyDrive/yolor_input_video/video.mp4: 768x1280 4 persons, 3 bottles, 10 cups, 2 spoons, 1 chairs, 1 dining tables, 1 teddy bears, Done. (0.179s)\n",
            "video 1/1 (390/470) /content/drive/MyDrive/yolor_input_video/video.mp4: 768x1280 4 persons, 3 bottles, 10 cups, 1 knifes, 2 spoons, 1 chairs, 1 dining tables, 1 teddy bears, Done. (0.181s)\n",
            "video 1/1 (391/470) /content/drive/MyDrive/yolor_input_video/video.mp4: 768x1280 4 persons, 3 bottles, 10 cups, 1 knifes, 1 spoons, 1 chairs, 1 dining tables, 1 teddy bears, Done. (0.179s)\n",
            "video 1/1 (392/470) /content/drive/MyDrive/yolor_input_video/video.mp4: 768x1280 4 persons, 3 bottles, 10 cups, 1 spoons, 1 chairs, 1 dining tables, 1 teddy bears, Done. (0.179s)\n",
            "video 1/1 (393/470) /content/drive/MyDrive/yolor_input_video/video.mp4: 768x1280 4 persons, 3 bottles, 9 cups, 1 spoons, 1 chairs, 1 dining tables, 1 teddy bears, Done. (0.179s)\n",
            "video 1/1 (394/470) /content/drive/MyDrive/yolor_input_video/video.mp4: 768x1280 4 persons, 3 bottles, 10 cups, 1 spoons, 1 chairs, 1 dining tables, 1 teddy bears, Done. (0.179s)\n",
            "video 1/1 (395/470) /content/drive/MyDrive/yolor_input_video/video.mp4: 768x1280 4 persons, 3 bottles, 10 cups, 1 spoons, 1 chairs, 1 dining tables, 1 teddy bears, Done. (0.179s)\n",
            "video 1/1 (396/470) /content/drive/MyDrive/yolor_input_video/video.mp4: 768x1280 4 persons, 3 bottles, 10 cups, 1 spoons, 1 chairs, 1 dining tables, 1 teddy bears, Done. (0.179s)\n",
            "video 1/1 (397/470) /content/drive/MyDrive/yolor_input_video/video.mp4: 768x1280 4 persons, 3 bottles, 10 cups, 1 spoons, 1 chairs, 1 dining tables, Done. (0.179s)\n",
            "video 1/1 (398/470) /content/drive/MyDrive/yolor_input_video/video.mp4: 768x1280 4 persons, 2 bottles, 10 cups, 1 spoons, 1 chairs, 1 dining tables, 1 teddy bears, Done. (0.178s)\n",
            "video 1/1 (399/470) /content/drive/MyDrive/yolor_input_video/video.mp4: 768x1280 4 persons, 3 bottles, 10 cups, 1 spoons, 1 chairs, 1 dining tables, 1 teddy bears, Done. (0.178s)\n",
            "video 1/1 (400/470) /content/drive/MyDrive/yolor_input_video/video.mp4: 768x1280 4 persons, 3 bottles, 10 cups, 1 spoons, 1 chairs, 1 dining tables, Done. (0.180s)\n",
            "video 1/1 (401/470) /content/drive/MyDrive/yolor_input_video/video.mp4: 768x1280 4 persons, 3 bottles, 10 cups, 1 spoons, 1 bowls, 1 chairs, 1 dining tables, 1 teddy bears, Done. (0.179s)\n",
            "video 1/1 (402/470) /content/drive/MyDrive/yolor_input_video/video.mp4: 768x1280 4 persons, 3 bottles, 10 cups, 1 spoons, 1 bowls, 1 chairs, 1 dining tables, 1 teddy bears, Done. (0.179s)\n",
            "video 1/1 (403/470) /content/drive/MyDrive/yolor_input_video/video.mp4: 768x1280 4 persons, 3 bottles, 12 cups, 1 spoons, 2 bowls, 1 chairs, 1 dining tables, 1 teddy bears, Done. (0.179s)\n",
            "video 1/1 (404/470) /content/drive/MyDrive/yolor_input_video/video.mp4: 768x1280 4 persons, 3 bottles, 11 cups, 1 spoons, 1 bowls, 1 chairs, 1 dining tables, 1 teddy bears, Done. (0.179s)\n",
            "video 1/1 (405/470) /content/drive/MyDrive/yolor_input_video/video.mp4: 768x1280 4 persons, 3 bottles, 12 cups, 1 knifes, 1 spoons, 1 bowls, 1 chairs, 1 dining tables, Done. (0.178s)\n",
            "video 1/1 (406/470) /content/drive/MyDrive/yolor_input_video/video.mp4: 768x1280 4 persons, 3 bottles, 11 cups, 1 knifes, 2 spoons, 1 bowls, 1 chairs, 1 dining tables, Done. (0.179s)\n",
            "video 1/1 (407/470) /content/drive/MyDrive/yolor_input_video/video.mp4: 768x1280 4 persons, 3 bottles, 11 cups, 1 spoons, 1 bowls, 1 chairs, 1 dining tables, Done. (0.181s)\n",
            "video 1/1 (408/470) /content/drive/MyDrive/yolor_input_video/video.mp4: 768x1280 4 persons, 3 bottles, 11 cups, 1 spoons, 1 bowls, 1 chairs, 1 dining tables, Done. (0.178s)\n",
            "video 1/1 (409/470) /content/drive/MyDrive/yolor_input_video/video.mp4: 768x1280 4 persons, 3 bottles, 11 cups, 1 spoons, 1 bowls, 1 chairs, 1 dining tables, Done. (0.179s)\n",
            "video 1/1 (410/470) /content/drive/MyDrive/yolor_input_video/video.mp4: 768x1280 4 persons, 3 bottles, 12 cups, 1 forks, 1 spoons, 2 bowls, 2 chairs, 1 dining tables, Done. (0.178s)\n",
            "video 1/1 (411/470) /content/drive/MyDrive/yolor_input_video/video.mp4: 768x1280 4 persons, 3 bottles, 12 cups, 1 forks, 2 spoons, 2 bowls, 2 chairs, 1 dining tables, Done. (0.179s)\n",
            "video 1/1 (412/470) /content/drive/MyDrive/yolor_input_video/video.mp4: 768x1280 4 persons, 3 bottles, 12 cups, 1 forks, 2 spoons, 2 bowls, 2 chairs, 1 dining tables, Done. (0.178s)\n",
            "video 1/1 (413/470) /content/drive/MyDrive/yolor_input_video/video.mp4: 768x1280 4 persons, 3 bottles, 11 cups, 1 forks, 2 spoons, 2 bowls, 2 chairs, 1 dining tables, Done. (0.179s)\n",
            "video 1/1 (414/470) /content/drive/MyDrive/yolor_input_video/video.mp4: 768x1280 4 persons, 3 bottles, 11 cups, 1 forks, 2 spoons, 2 bowls, 2 chairs, 1 dining tables, Done. (0.179s)\n",
            "video 1/1 (415/470) /content/drive/MyDrive/yolor_input_video/video.mp4: 768x1280 4 persons, 3 bottles, 12 cups, 1 forks, 2 spoons, 2 bowls, 2 chairs, 1 dining tables, Done. (0.178s)\n",
            "video 1/1 (416/470) /content/drive/MyDrive/yolor_input_video/video.mp4: 768x1280 4 persons, 3 bottles, 11 cups, 1 forks, 2 spoons, 2 bowls, 3 chairs, 1 dining tables, Done. (0.180s)\n",
            "video 1/1 (417/470) /content/drive/MyDrive/yolor_input_video/video.mp4: 768x1280 4 persons, 3 bottles, 11 cups, 1 forks, 2 spoons, 1 bowls, 2 chairs, 1 dining tables, Done. (0.179s)\n",
            "video 1/1 (418/470) /content/drive/MyDrive/yolor_input_video/video.mp4: 768x1280 4 persons, 3 bottles, 11 cups, 1 forks, 2 spoons, 2 bowls, 2 chairs, 1 dining tables, Done. (0.178s)\n",
            "video 1/1 (419/470) /content/drive/MyDrive/yolor_input_video/video.mp4: 768x1280 4 persons, 3 bottles, 11 cups, 2 spoons, 2 bowls, 2 chairs, 1 dining tables, Done. (0.179s)\n",
            "video 1/1 (420/470) /content/drive/MyDrive/yolor_input_video/video.mp4: 768x1280 4 persons, 3 bottles, 11 cups, 1 spoons, 2 bowls, 2 chairs, 1 dining tables, Done. (0.178s)\n",
            "video 1/1 (421/470) /content/drive/MyDrive/yolor_input_video/video.mp4: 768x1280 4 persons, 3 bottles, 11 cups, 1 forks, 2 spoons, 2 bowls, 2 chairs, 1 dining tables, Done. (0.179s)\n",
            "video 1/1 (422/470) /content/drive/MyDrive/yolor_input_video/video.mp4: 768x1280 4 persons, 3 bottles, 11 cups, 1 forks, 2 spoons, 2 bowls, 3 chairs, 1 dining tables, Done. (0.179s)\n",
            "video 1/1 (423/470) /content/drive/MyDrive/yolor_input_video/video.mp4: 768x1280 4 persons, 3 bottles, 11 cups, 1 forks, 2 spoons, 2 bowls, 3 chairs, 1 dining tables, Done. (0.179s)\n",
            "video 1/1 (424/470) /content/drive/MyDrive/yolor_input_video/video.mp4: 768x1280 4 persons, 3 bottles, 11 cups, 1 forks, 2 spoons, 2 bowls, 3 chairs, 1 dining tables, Done. (0.178s)\n",
            "video 1/1 (425/470) /content/drive/MyDrive/yolor_input_video/video.mp4: 768x1280 4 persons, 3 bottles, 12 cups, 1 forks, 2 spoons, 2 bowls, 3 chairs, 1 dining tables, Done. (0.178s)\n",
            "video 1/1 (426/470) /content/drive/MyDrive/yolor_input_video/video.mp4: 768x1280 4 persons, 3 bottles, 12 cups, 1 forks, 2 spoons, 2 bowls, 3 chairs, 1 dining tables, Done. (0.179s)\n",
            "video 1/1 (427/470) /content/drive/MyDrive/yolor_input_video/video.mp4: 768x1280 4 persons, 3 bottles, 12 cups, 1 forks, 2 spoons, 1 bowls, 3 chairs, 1 dining tables, Done. (0.179s)\n",
            "video 1/1 (428/470) /content/drive/MyDrive/yolor_input_video/video.mp4: 768x1280 4 persons, 3 bottles, 11 cups, 1 forks, 2 spoons, 1 bowls, 2 chairs, 1 dining tables, Done. (0.180s)\n",
            "video 1/1 (429/470) /content/drive/MyDrive/yolor_input_video/video.mp4: 768x1280 4 persons, 3 bottles, 11 cups, 1 forks, 2 spoons, 2 bowls, 2 chairs, 1 dining tables, Done. (0.179s)\n",
            "video 1/1 (430/470) /content/drive/MyDrive/yolor_input_video/video.mp4: 768x1280 4 persons, 3 bottles, 11 cups, 1 forks, 2 spoons, 2 bowls, 2 chairs, 1 dining tables, Done. (0.179s)\n",
            "video 1/1 (431/470) /content/drive/MyDrive/yolor_input_video/video.mp4: 768x1280 4 persons, 3 bottles, 11 cups, 2 spoons, 2 bowls, 2 chairs, 1 dining tables, Done. (0.178s)\n",
            "video 1/1 (432/470) /content/drive/MyDrive/yolor_input_video/video.mp4: 768x1280 4 persons, 3 bottles, 12 cups, 1 spoons, 2 bowls, 2 chairs, 1 dining tables, Done. (0.179s)\n",
            "video 1/1 (433/470) /content/drive/MyDrive/yolor_input_video/video.mp4: 768x1280 4 persons, 3 bottles, 12 cups, 1 forks, 2 spoons, 2 bowls, 2 chairs, 1 dining tables, Done. (0.179s)\n",
            "video 1/1 (434/470) /content/drive/MyDrive/yolor_input_video/video.mp4: 768x1280 4 persons, 3 bottles, 12 cups, 1 spoons, 1 bowls, 2 chairs, 1 dining tables, Done. (0.180s)\n",
            "video 1/1 (435/470) /content/drive/MyDrive/yolor_input_video/video.mp4: 768x1280 4 persons, 3 bottles, 11 cups, 1 spoons, 1 bowls, 2 chairs, 1 dining tables, Done. (0.179s)\n",
            "video 1/1 (436/470) /content/drive/MyDrive/yolor_input_video/video.mp4: 768x1280 4 persons, 3 bottles, 11 cups, 1 spoons, 2 bowls, 2 chairs, 1 dining tables, Done. (0.179s)\n",
            "video 1/1 (437/470) /content/drive/MyDrive/yolor_input_video/video.mp4: 768x1280 4 persons, 3 bottles, 12 cups, 1 spoons, 2 bowls, 2 chairs, 1 dining tables, Done. (0.179s)\n",
            "video 1/1 (438/470) /content/drive/MyDrive/yolor_input_video/video.mp4: 768x1280 4 persons, 2 bottles, 12 cups, 1 knifes, 1 spoons, 1 bowls, 3 chairs, 1 dining tables, Done. (0.178s)\n",
            "video 1/1 (439/470) /content/drive/MyDrive/yolor_input_video/video.mp4: 768x1280 4 persons, 2 bottles, 11 cups, 1 spoons, 1 bowls, 3 chairs, 1 dining tables, Done. (0.180s)\n",
            "video 1/1 (440/470) /content/drive/MyDrive/yolor_input_video/video.mp4: 768x1280 4 persons, 3 bottles, 11 cups, 1 knifes, 1 spoons, 1 bowls, 2 chairs, 1 dining tables, Done. (0.179s)\n",
            "video 1/1 (441/470) /content/drive/MyDrive/yolor_input_video/video.mp4: 768x1280 4 persons, 3 bottles, 11 cups, 1 spoons, 1 bowls, 2 chairs, 1 dining tables, Done. (0.179s)\n",
            "video 1/1 (442/470) /content/drive/MyDrive/yolor_input_video/video.mp4: 768x1280 4 persons, 3 bottles, 11 cups, 1 spoons, 2 bowls, 2 chairs, 1 dining tables, Done. (0.179s)\n",
            "video 1/1 (443/470) /content/drive/MyDrive/yolor_input_video/video.mp4: 768x1280 4 persons, 3 bottles, 11 cups, 1 spoons, 1 bowls, 2 chairs, 1 dining tables, Done. (0.179s)\n",
            "video 1/1 (444/470) /content/drive/MyDrive/yolor_input_video/video.mp4: 768x1280 4 persons, 3 bottles, 11 cups, 1 knifes, 1 spoons, 2 bowls, 2 chairs, 1 dining tables, Done. (0.179s)\n",
            "video 1/1 (445/470) /content/drive/MyDrive/yolor_input_video/video.mp4: 768x1280 4 persons, 3 bottles, 12 cups, 1 spoons, 1 bowls, 3 chairs, 1 dining tables, 1 teddy bears, Done. (0.179s)\n",
            "video 1/1 (446/470) /content/drive/MyDrive/yolor_input_video/video.mp4: 768x1280 4 persons, 3 bottles, 12 cups, 1 spoons, 1 bowls, 3 chairs, 1 dining tables, 1 teddy bears, Done. (0.179s)\n",
            "video 1/1 (447/470) /content/drive/MyDrive/yolor_input_video/video.mp4: 768x1280 4 persons, 3 bottles, 10 cups, 1 spoons, 1 bowls, 2 chairs, 1 dining tables, 1 teddy bears, Done. (0.179s)\n",
            "video 1/1 (448/470) /content/drive/MyDrive/yolor_input_video/video.mp4: 768x1280 4 persons, 3 bottles, 10 cups, 1 knifes, 1 spoons, 1 bowls, 2 chairs, 1 dining tables, 1 teddy bears, Done. (0.178s)\n",
            "video 1/1 (449/470) /content/drive/MyDrive/yolor_input_video/video.mp4: 768x1280 4 persons, 3 bottles, 11 cups, 1 spoons, 1 bowls, 2 chairs, 1 dining tables, 1 teddy bears, Done. (0.180s)\n",
            "video 1/1 (450/470) /content/drive/MyDrive/yolor_input_video/video.mp4: 768x1280 4 persons, 3 bottles, 11 cups, 1 spoons, 1 bowls, 2 chairs, 1 dining tables, 1 teddy bears, Done. (0.179s)\n",
            "video 1/1 (451/470) /content/drive/MyDrive/yolor_input_video/video.mp4: 768x1280 4 persons, 3 bottles, 11 cups, 2 spoons, 1 bowls, 2 chairs, 1 dining tables, 1 teddy bears, Done. (0.182s)\n",
            "video 1/1 (452/470) /content/drive/MyDrive/yolor_input_video/video.mp4: 768x1280 4 persons, 3 bottles, 13 cups, 1 knifes, 1 spoons, 1 bowls, 1 chairs, 1 dining tables, 1 teddy bears, Done. (0.179s)\n",
            "video 1/1 (453/470) /content/drive/MyDrive/yolor_input_video/video.mp4: 768x1280 4 persons, 2 bottles, 14 cups, 1 spoons, 1 bowls, 1 dining tables, 1 teddy bears, Done. (0.180s)\n",
            "video 1/1 (454/470) /content/drive/MyDrive/yolor_input_video/video.mp4: 768x1280 4 persons, 3 bottles, 13 cups, 1 spoons, 1 bowls, 1 dining tables, 1 teddy bears, Done. (0.179s)\n",
            "video 1/1 (455/470) /content/drive/MyDrive/yolor_input_video/video.mp4: 768x1280 4 persons, 3 bottles, 12 cups, 1 spoons, 1 bowls, 1 dining tables, 1 teddy bears, Done. (0.179s)\n",
            "video 1/1 (456/470) /content/drive/MyDrive/yolor_input_video/video.mp4: 768x1280 4 persons, 3 bottles, 11 cups, 2 spoons, 1 bowls, 1 dining tables, 1 teddy bears, Done. (0.179s)\n",
            "video 1/1 (457/470) /content/drive/MyDrive/yolor_input_video/video.mp4: 768x1280 4 persons, 2 bottles, 12 cups, 1 forks, 1 knifes, 2 spoons, 1 bowls, 1 dining tables, 1 teddy bears, Done. (0.179s)\n",
            "video 1/1 (458/470) /content/drive/MyDrive/yolor_input_video/video.mp4: 768x1280 4 persons, 2 bottles, 14 cups, 1 knifes, 1 spoons, 1 bowls, 1 dining tables, 1 teddy bears, Done. (0.179s)\n",
            "video 1/1 (459/470) /content/drive/MyDrive/yolor_input_video/video.mp4: 768x1280 4 persons, 2 bottles, 14 cups, 1 forks, 1 knifes, 2 spoons, 1 bowls, 1 dining tables, 1 teddy bears, Done. (0.178s)\n",
            "video 1/1 (460/470) /content/drive/MyDrive/yolor_input_video/video.mp4: 768x1280 4 persons, 2 bottles, 15 cups, 1 forks, 1 knifes, 2 spoons, 1 bowls, 1 dining tables, 1 teddy bears, Done. (0.179s)\n",
            "video 1/1 (461/470) /content/drive/MyDrive/yolor_input_video/video.mp4: 768x1280 3 persons, 2 bottles, 15 cups, 1 forks, 1 knifes, 2 spoons, 1 bowls, 1 dining tables, 1 teddy bears, Done. (0.178s)\n",
            "video 1/1 (462/470) /content/drive/MyDrive/yolor_input_video/video.mp4: 768x1280 3 persons, 2 bottles, 15 cups, 1 forks, 2 spoons, 1 bowls, 1 dining tables, 1 teddy bears, Done. (0.179s)\n",
            "video 1/1 (463/470) /content/drive/MyDrive/yolor_input_video/video.mp4: 768x1280 4 persons, 2 bottles, 15 cups, 1 forks, 2 spoons, 1 bowls, 1 dining tables, 1 teddy bears, Done. (0.181s)\n",
            "video 1/1 (464/470) /content/drive/MyDrive/yolor_input_video/video.mp4: 768x1280 4 persons, 3 bottles, 15 cups, 1 forks, 1 spoons, 1 bowls, 1 dining tables, 1 teddy bears, Done. (0.179s)\n",
            "video 1/1 (465/470) /content/drive/MyDrive/yolor_input_video/video.mp4: 768x1280 4 persons, 3 bottles, 15 cups, 1 forks, 1 knifes, 2 spoons, 1 bowls, 1 dining tables, 1 teddy bears, Done. (0.179s)\n",
            "video 1/1 (466/470) /content/drive/MyDrive/yolor_input_video/video.mp4: 768x1280 4 persons, 3 bottles, 13 cups, 1 knifes, 2 spoons, 1 bowls, 1 dining tables, 1 teddy bears, Done. (0.179s)\n",
            "video 1/1 (467/470) /content/drive/MyDrive/yolor_input_video/video.mp4: 768x1280 4 persons, 3 bottles, 13 cups, 1 knifes, 2 spoons, 1 bowls, 1 dining tables, 1 teddy bears, Done. (0.179s)\n",
            "video 1/1 (468/470) /content/drive/MyDrive/yolor_input_video/video.mp4: 768x1280 4 persons, 3 bottles, 13 cups, 2 spoons, 1 bowls, 1 dining tables, 1 teddy bears, Done. (0.179s)\n",
            "video 1/1 (469/470) /content/drive/MyDrive/yolor_input_video/video.mp4: 768x1280 3 persons, 3 bottles, 13 cups, 1 knifes, 1 spoons, 1 bowls, 1 dining tables, 1 teddy bears, Done. (0.178s)\n",
            "video 1/1 (470/470) /content/drive/MyDrive/yolor_input_video/video.mp4: 768x1280 3 persons, 3 bottles, 13 cups, 1 knifes, 2 spoons, 1 bowls, 1 dining tables, 1 teddy bears, Done. (0.179s)\n",
            "Results saved to /content/drive/MyDrive/output_of_yolor\n",
            "Done. (153.859s)\n"
          ]
        }
      ]
    },
    {
      "cell_type": "code",
      "metadata": {
        "id": "CEHbi5q9fOmy"
      },
      "source": [
        ""
      ],
      "execution_count": 34,
      "outputs": []
    },
    {
      "cell_type": "code",
      "metadata": {
        "id": "Zck1bai5fO4C"
      },
      "source": [
        ""
      ],
      "execution_count": 34,
      "outputs": []
    },
    {
      "cell_type": "markdown",
      "metadata": {
        "id": "Kw8ugjvnbbvQ"
      },
      "source": [
        ""
      ]
    },
    {
      "cell_type": "code",
      "metadata": {
        "colab": {
          "base_uri": "https://localhost:8080/",
          "height": 252
        },
        "id": "WJb6_jiPeeK0",
        "outputId": "d645662a-fae8-4391-911e-b23b22d0f99d"
      },
      "source": [
        "from IPython.display import HTML\n",
        "from base64 import b64encode\n",
        "import os\n",
        "\n",
        "save_path =\"/content/drive/MyDrive/yolor_input_video/video.mp4\"\n",
        "compressed_path = \"/content/drive/MyDrive/output_of_yolor/video_result_compressed.mp4\"\n",
        "\n",
        "os.system(f\"ffmpeg - i {save_path} -vcodec libx164 {compressed_path}\")\n",
        "\n",
        "mp4=open(compressed_path,'rb').read()\n",
        "data_url = \"data:video/mp4;base64,\" + b64encode(mp4).decode()\n",
        "\n",
        "HTML(\"\"\"\n",
        "<video width=1000 controls>\n",
        "  <sourse src=\"%s\" type =\"video/mp4\">\n",
        "  </video>\n",
        "\"\"\" %data_url)"
      ],
      "execution_count": 35,
      "outputs": [
        {
          "output_type": "error",
          "ename": "FileNotFoundError",
          "evalue": "ignored",
          "traceback": [
            "\u001b[0;31m---------------------------------------------------------------------------\u001b[0m",
            "\u001b[0;31mFileNotFoundError\u001b[0m                         Traceback (most recent call last)",
            "\u001b[0;32m<ipython-input-35-55de2ea3f0c4>\u001b[0m in \u001b[0;36m<module>\u001b[0;34m()\u001b[0m\n\u001b[1;32m      8\u001b[0m \u001b[0mos\u001b[0m\u001b[0;34m.\u001b[0m\u001b[0msystem\u001b[0m\u001b[0;34m(\u001b[0m\u001b[0;34mf\"ffmpeg - i {save_path} -vcodec libx164 {compressed_path}\"\u001b[0m\u001b[0;34m)\u001b[0m\u001b[0;34m\u001b[0m\u001b[0;34m\u001b[0m\u001b[0m\n\u001b[1;32m      9\u001b[0m \u001b[0;34m\u001b[0m\u001b[0m\n\u001b[0;32m---> 10\u001b[0;31m \u001b[0mmp4\u001b[0m\u001b[0;34m=\u001b[0m\u001b[0mopen\u001b[0m\u001b[0;34m(\u001b[0m\u001b[0mcompressed_path\u001b[0m\u001b[0;34m,\u001b[0m\u001b[0;34m'rb'\u001b[0m\u001b[0;34m)\u001b[0m\u001b[0;34m.\u001b[0m\u001b[0mread\u001b[0m\u001b[0;34m(\u001b[0m\u001b[0;34m)\u001b[0m\u001b[0;34m\u001b[0m\u001b[0;34m\u001b[0m\u001b[0m\n\u001b[0m\u001b[1;32m     11\u001b[0m \u001b[0mdata_url\u001b[0m \u001b[0;34m=\u001b[0m \u001b[0;34m\"data:video/mp4;base64,\"\u001b[0m \u001b[0;34m+\u001b[0m \u001b[0mb64encode\u001b[0m\u001b[0;34m(\u001b[0m\u001b[0mmp4\u001b[0m\u001b[0;34m)\u001b[0m\u001b[0;34m.\u001b[0m\u001b[0mdecode\u001b[0m\u001b[0;34m(\u001b[0m\u001b[0;34m)\u001b[0m\u001b[0;34m\u001b[0m\u001b[0;34m\u001b[0m\u001b[0m\n\u001b[1;32m     12\u001b[0m \u001b[0;34m\u001b[0m\u001b[0m\n",
            "\u001b[0;31mFileNotFoundError\u001b[0m: [Errno 2] No such file or directory: '/content/drive/MyDrive/output_of_yolor/video_result_compressed.mp4'"
          ]
        }
      ]
    },
    {
      "cell_type": "code",
      "metadata": {
        "id": "-DeLxr-MogOB"
      },
      "source": [
        ""
      ],
      "execution_count": null,
      "outputs": []
    }
  ]
}